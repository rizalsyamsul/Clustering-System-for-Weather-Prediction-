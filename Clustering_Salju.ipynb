{
  "nbformat": 4,
  "nbformat_minor": 0,
  "metadata": {
    "colab": {
      "name": "Tubes Malin.ipynb",
      "provenance": []
    },
    "kernelspec": {
      "name": "python3",
      "display_name": "Python 3"
    },
    "language_info": {
      "name": "python"
    }
  },
  "cells": [
    {
      "cell_type": "markdown",
      "metadata": {
        "id": "54ercm9_vZss"
      },
      "source": [
        "**Tugas Besar Machine Learning**\n",
        "\n",
        "***Clustering***\n",
        "\n",
        "Syamsul Rizal\n",
        "\n",
        "130118xxxx\n",
        "\n",
        "IF-42-01"
      ]
    },
    {
      "cell_type": "markdown",
      "metadata": {
        "id": "y9lizrzpxtK7"
      },
      "source": [
        "#Library"
      ]
    },
    {
      "cell_type": "code",
      "metadata": {
        "id": "krD07JcJ4W9n"
      },
      "source": [
        "import pandas as pd\n",
        "import numpy as np \n",
        "import matplotlib as mp\n",
        "import matplotlib.pyplot as plt\n",
        "import seaborn as sns\n",
        "from sklearn.preprocessing import MinMaxScaler , StandardScaler\n",
        "from sklearn.decomposition import PCA\n",
        "from copy import deepcopy\n",
        "from sklearn.cluster import KMeans\n",
        "import warnings\n",
        "warnings.filterwarnings('ignore')"
      ],
      "execution_count": null,
      "outputs": []
    },
    {
      "cell_type": "markdown",
      "metadata": {
        "id": "OBzA_wO955-M"
      },
      "source": [
        "# Import Data"
      ]
    },
    {
      "cell_type": "code",
      "metadata": {
        "id": "wbgestew4f7V",
        "colab": {
          "base_uri": "https://localhost:8080/"
        },
        "outputId": "5b3786cc-0f80-40ed-b322-1a44f3176116"
      },
      "source": [
        "from google.colab import drive\n",
        "drive.mount('/content/drive')"
      ],
      "execution_count": null,
      "outputs": [
        {
          "output_type": "stream",
          "text": [
            "Drive already mounted at /content/drive; to attempt to forcibly remount, call drive.mount(\"/content/drive\", force_remount=True).\n"
          ],
          "name": "stdout"
        }
      ]
    },
    {
      "cell_type": "markdown",
      "metadata": {
        "id": "n1pBYxoT5_QO"
      },
      "source": [
        "# Eksplorasi dan Persiapan Data"
      ]
    },
    {
      "cell_type": "markdown",
      "metadata": {
        "id": "heTDbT900hV6"
      },
      "source": [
        "## Eksplorasi Data"
      ]
    },
    {
      "cell_type": "markdown",
      "metadata": {
        "id": "b2Wb4-ceUAsH"
      },
      "source": [
        "Untuk data Salju ini saya menggunakan 6 kolom yang saya anggap cukup penting untuk mengukur apakah besok bersalju atau tidak"
      ]
    },
    {
      "cell_type": "code",
      "metadata": {
        "id": "03FKZt7SQj0g",
        "colab": {
          "base_uri": "https://localhost:8080/",
          "height": 419
        },
        "outputId": "b200531f-cd6c-478c-f0b4-1287e1cae5f7"
      },
      "source": [
        "df_salju = pd.read_csv('drive/My Drive/TubesMalin/salju_train.csv')\n",
        "df_salju = df_salju[['SuhuMin','SuhuMax','Hujan','SinarMatahari','Awan3pm','Suhu3pm']]\n",
        "df_salju"
      ],
      "execution_count": null,
      "outputs": [
        {
          "output_type": "execute_result",
          "data": {
            "text/html": [
              "<div>\n",
              "<style scoped>\n",
              "    .dataframe tbody tr th:only-of-type {\n",
              "        vertical-align: middle;\n",
              "    }\n",
              "\n",
              "    .dataframe tbody tr th {\n",
              "        vertical-align: top;\n",
              "    }\n",
              "\n",
              "    .dataframe thead th {\n",
              "        text-align: right;\n",
              "    }\n",
              "</style>\n",
              "<table border=\"1\" class=\"dataframe\">\n",
              "  <thead>\n",
              "    <tr style=\"text-align: right;\">\n",
              "      <th></th>\n",
              "      <th>SuhuMin</th>\n",
              "      <th>SuhuMax</th>\n",
              "      <th>Hujan</th>\n",
              "      <th>SinarMatahari</th>\n",
              "      <th>Awan3pm</th>\n",
              "      <th>Suhu3pm</th>\n",
              "    </tr>\n",
              "  </thead>\n",
              "  <tbody>\n",
              "    <tr>\n",
              "      <th>0</th>\n",
              "      <td>10.4</td>\n",
              "      <td>15.5</td>\n",
              "      <td>4.8</td>\n",
              "      <td>NaN</td>\n",
              "      <td>NaN</td>\n",
              "      <td>15.0</td>\n",
              "    </tr>\n",
              "    <tr>\n",
              "      <th>1</th>\n",
              "      <td>9.0</td>\n",
              "      <td>17.0</td>\n",
              "      <td>8.0</td>\n",
              "      <td>7.4</td>\n",
              "      <td>5.0</td>\n",
              "      <td>15.5</td>\n",
              "    </tr>\n",
              "    <tr>\n",
              "      <th>2</th>\n",
              "      <td>18.2</td>\n",
              "      <td>32.0</td>\n",
              "      <td>0.0</td>\n",
              "      <td>NaN</td>\n",
              "      <td>NaN</td>\n",
              "      <td>29.6</td>\n",
              "    </tr>\n",
              "    <tr>\n",
              "      <th>3</th>\n",
              "      <td>7.3</td>\n",
              "      <td>24.5</td>\n",
              "      <td>0.0</td>\n",
              "      <td>10.4</td>\n",
              "      <td>7.0</td>\n",
              "      <td>23.2</td>\n",
              "    </tr>\n",
              "    <tr>\n",
              "      <th>4</th>\n",
              "      <td>5.9</td>\n",
              "      <td>20.3</td>\n",
              "      <td>0.0</td>\n",
              "      <td>12.6</td>\n",
              "      <td>6.0</td>\n",
              "      <td>18.1</td>\n",
              "    </tr>\n",
              "    <tr>\n",
              "      <th>...</th>\n",
              "      <td>...</td>\n",
              "      <td>...</td>\n",
              "      <td>...</td>\n",
              "      <td>...</td>\n",
              "      <td>...</td>\n",
              "      <td>...</td>\n",
              "    </tr>\n",
              "    <tr>\n",
              "      <th>109090</th>\n",
              "      <td>20.1</td>\n",
              "      <td>23.7</td>\n",
              "      <td>0.0</td>\n",
              "      <td>8.9</td>\n",
              "      <td>6.0</td>\n",
              "      <td>22.1</td>\n",
              "    </tr>\n",
              "    <tr>\n",
              "      <th>109091</th>\n",
              "      <td>15.7</td>\n",
              "      <td>25.2</td>\n",
              "      <td>0.0</td>\n",
              "      <td>NaN</td>\n",
              "      <td>NaN</td>\n",
              "      <td>24.4</td>\n",
              "    </tr>\n",
              "    <tr>\n",
              "      <th>109092</th>\n",
              "      <td>7.5</td>\n",
              "      <td>20.4</td>\n",
              "      <td>1.6</td>\n",
              "      <td>NaN</td>\n",
              "      <td>NaN</td>\n",
              "      <td>19.8</td>\n",
              "    </tr>\n",
              "    <tr>\n",
              "      <th>109093</th>\n",
              "      <td>10.8</td>\n",
              "      <td>29.8</td>\n",
              "      <td>0.0</td>\n",
              "      <td>11.2</td>\n",
              "      <td>1.0</td>\n",
              "      <td>29.2</td>\n",
              "    </tr>\n",
              "    <tr>\n",
              "      <th>109094</th>\n",
              "      <td>12.3</td>\n",
              "      <td>27.4</td>\n",
              "      <td>9.0</td>\n",
              "      <td>NaN</td>\n",
              "      <td>NaN</td>\n",
              "      <td>23.3</td>\n",
              "    </tr>\n",
              "  </tbody>\n",
              "</table>\n",
              "<p>109095 rows × 6 columns</p>\n",
              "</div>"
            ],
            "text/plain": [
              "        SuhuMin  SuhuMax  Hujan  SinarMatahari  Awan3pm  Suhu3pm\n",
              "0          10.4     15.5    4.8            NaN      NaN     15.0\n",
              "1           9.0     17.0    8.0            7.4      5.0     15.5\n",
              "2          18.2     32.0    0.0            NaN      NaN     29.6\n",
              "3           7.3     24.5    0.0           10.4      7.0     23.2\n",
              "4           5.9     20.3    0.0           12.6      6.0     18.1\n",
              "...         ...      ...    ...            ...      ...      ...\n",
              "109090     20.1     23.7    0.0            8.9      6.0     22.1\n",
              "109091     15.7     25.2    0.0            NaN      NaN     24.4\n",
              "109092      7.5     20.4    1.6            NaN      NaN     19.8\n",
              "109093     10.8     29.8    0.0           11.2      1.0     29.2\n",
              "109094     12.3     27.4    9.0            NaN      NaN     23.3\n",
              "\n",
              "[109095 rows x 6 columns]"
            ]
          },
          "metadata": {
            "tags": []
          },
          "execution_count": 3
        }
      ]
    },
    {
      "cell_type": "markdown",
      "metadata": {
        "id": "bCeVN-HM0nBz"
      },
      "source": [
        "## Persiapan/Pre-Processing Data"
      ]
    },
    {
      "cell_type": "markdown",
      "metadata": {
        "id": "NC8zlqzXclQY"
      },
      "source": [
        "**Missing Value**\n",
        "> Mengisi Missing Value dari data yang ada dengan mean dan median, mean digunakan ketika skewness dari data kecil atau ada di range -1 hingga 1, sedangkan median digunakan ketika skewness besar\n",
        "\n"
      ]
    },
    {
      "cell_type": "code",
      "metadata": {
        "id": "0POLA6CCUThZ",
        "colab": {
          "base_uri": "https://localhost:8080/"
        },
        "outputId": "e35634d2-75b6-41e2-f29e-93d87ff229fb"
      },
      "source": [
        "df_salju.isnull().sum()"
      ],
      "execution_count": null,
      "outputs": [
        {
          "output_type": "execute_result",
          "data": {
            "text/plain": [
              "SuhuMin           1122\n",
              "SuhuMax            929\n",
              "Hujan             2431\n",
              "SinarMatahari    52379\n",
              "Awan3pm          44471\n",
              "Suhu3pm           2698\n",
              "dtype: int64"
            ]
          },
          "metadata": {
            "tags": []
          },
          "execution_count": 4
        }
      ]
    },
    {
      "cell_type": "code",
      "metadata": {
        "id": "0ScYUOxtYcmu",
        "colab": {
          "base_uri": "https://localhost:8080/"
        },
        "outputId": "3f568d07-3bc3-42c4-a2f6-be1089380c34"
      },
      "source": [
        "df_salju.skew(axis=0, skipna=True)"
      ],
      "execution_count": null,
      "outputs": [
        {
          "output_type": "execute_result",
          "data": {
            "text/plain": [
              "SuhuMin           0.018027\n",
              "SuhuMax           0.220794\n",
              "Hujan            10.059372\n",
              "SinarMatahari    -0.493987\n",
              "Awan3pm          -0.227323\n",
              "Suhu3pm           0.238056\n",
              "dtype: float64"
            ]
          },
          "metadata": {
            "tags": []
          },
          "execution_count": 5
        }
      ]
    },
    {
      "cell_type": "code",
      "metadata": {
        "id": "dE-IO3UsY-ZY",
        "colab": {
          "base_uri": "https://localhost:8080/"
        },
        "outputId": "80e2e2fd-9067-49dc-a545-3826dd771336"
      },
      "source": [
        "#mengganti nilai null dengan mean dan median\n",
        "df_salju['SuhuMin'].fillna(df_salju['SuhuMin'].mean(),inplace=True)\n",
        "df_salju['SuhuMax'].fillna(df_salju['SuhuMax'].mean(),inplace=True)\n",
        "df_salju['SinarMatahari'].fillna(df_salju['SinarMatahari'].mean(),inplace=True)\n",
        "df_salju['Awan3pm'].fillna(df_salju['Awan3pm'].mean(),inplace=True)\n",
        "df_salju['Suhu3pm'].fillna(df_salju['Suhu3pm'].mean(),inplace=True)\n",
        "\n",
        "df_salju['Hujan'].fillna(df_salju['Hujan'].median(),inplace=True)\n",
        "\n",
        "#mengecek kembali nilai null data \n",
        "df_salju.isnull().sum()"
      ],
      "execution_count": null,
      "outputs": [
        {
          "output_type": "execute_result",
          "data": {
            "text/plain": [
              "SuhuMin          0\n",
              "SuhuMax          0\n",
              "Hujan            0\n",
              "SinarMatahari    0\n",
              "Awan3pm          0\n",
              "Suhu3pm          0\n",
              "dtype: int64"
            ]
          },
          "metadata": {
            "tags": []
          },
          "execution_count": 6
        }
      ]
    },
    {
      "cell_type": "code",
      "metadata": {
        "colab": {
          "base_uri": "https://localhost:8080/",
          "height": 419
        },
        "id": "xx3nBXon9vk2",
        "outputId": "10b5078c-8823-406c-d84e-7e824f79b358"
      },
      "source": [
        "df_salju"
      ],
      "execution_count": null,
      "outputs": [
        {
          "output_type": "execute_result",
          "data": {
            "text/html": [
              "<div>\n",
              "<style scoped>\n",
              "    .dataframe tbody tr th:only-of-type {\n",
              "        vertical-align: middle;\n",
              "    }\n",
              "\n",
              "    .dataframe tbody tr th {\n",
              "        vertical-align: top;\n",
              "    }\n",
              "\n",
              "    .dataframe thead th {\n",
              "        text-align: right;\n",
              "    }\n",
              "</style>\n",
              "<table border=\"1\" class=\"dataframe\">\n",
              "  <thead>\n",
              "    <tr style=\"text-align: right;\">\n",
              "      <th></th>\n",
              "      <th>SuhuMin</th>\n",
              "      <th>SuhuMax</th>\n",
              "      <th>Hujan</th>\n",
              "      <th>SinarMatahari</th>\n",
              "      <th>Awan3pm</th>\n",
              "      <th>Suhu3pm</th>\n",
              "    </tr>\n",
              "  </thead>\n",
              "  <tbody>\n",
              "    <tr>\n",
              "      <th>0</th>\n",
              "      <td>10.4</td>\n",
              "      <td>15.5</td>\n",
              "      <td>4.8</td>\n",
              "      <td>7.599527</td>\n",
              "      <td>4.51614</td>\n",
              "      <td>15.0</td>\n",
              "    </tr>\n",
              "    <tr>\n",
              "      <th>1</th>\n",
              "      <td>9.0</td>\n",
              "      <td>17.0</td>\n",
              "      <td>8.0</td>\n",
              "      <td>7.400000</td>\n",
              "      <td>5.00000</td>\n",
              "      <td>15.5</td>\n",
              "    </tr>\n",
              "    <tr>\n",
              "      <th>2</th>\n",
              "      <td>18.2</td>\n",
              "      <td>32.0</td>\n",
              "      <td>0.0</td>\n",
              "      <td>7.599527</td>\n",
              "      <td>4.51614</td>\n",
              "      <td>29.6</td>\n",
              "    </tr>\n",
              "    <tr>\n",
              "      <th>3</th>\n",
              "      <td>7.3</td>\n",
              "      <td>24.5</td>\n",
              "      <td>0.0</td>\n",
              "      <td>10.400000</td>\n",
              "      <td>7.00000</td>\n",
              "      <td>23.2</td>\n",
              "    </tr>\n",
              "    <tr>\n",
              "      <th>4</th>\n",
              "      <td>5.9</td>\n",
              "      <td>20.3</td>\n",
              "      <td>0.0</td>\n",
              "      <td>12.600000</td>\n",
              "      <td>6.00000</td>\n",
              "      <td>18.1</td>\n",
              "    </tr>\n",
              "    <tr>\n",
              "      <th>...</th>\n",
              "      <td>...</td>\n",
              "      <td>...</td>\n",
              "      <td>...</td>\n",
              "      <td>...</td>\n",
              "      <td>...</td>\n",
              "      <td>...</td>\n",
              "    </tr>\n",
              "    <tr>\n",
              "      <th>109090</th>\n",
              "      <td>20.1</td>\n",
              "      <td>23.7</td>\n",
              "      <td>0.0</td>\n",
              "      <td>8.900000</td>\n",
              "      <td>6.00000</td>\n",
              "      <td>22.1</td>\n",
              "    </tr>\n",
              "    <tr>\n",
              "      <th>109091</th>\n",
              "      <td>15.7</td>\n",
              "      <td>25.2</td>\n",
              "      <td>0.0</td>\n",
              "      <td>7.599527</td>\n",
              "      <td>4.51614</td>\n",
              "      <td>24.4</td>\n",
              "    </tr>\n",
              "    <tr>\n",
              "      <th>109092</th>\n",
              "      <td>7.5</td>\n",
              "      <td>20.4</td>\n",
              "      <td>1.6</td>\n",
              "      <td>7.599527</td>\n",
              "      <td>4.51614</td>\n",
              "      <td>19.8</td>\n",
              "    </tr>\n",
              "    <tr>\n",
              "      <th>109093</th>\n",
              "      <td>10.8</td>\n",
              "      <td>29.8</td>\n",
              "      <td>0.0</td>\n",
              "      <td>11.200000</td>\n",
              "      <td>1.00000</td>\n",
              "      <td>29.2</td>\n",
              "    </tr>\n",
              "    <tr>\n",
              "      <th>109094</th>\n",
              "      <td>12.3</td>\n",
              "      <td>27.4</td>\n",
              "      <td>9.0</td>\n",
              "      <td>7.599527</td>\n",
              "      <td>4.51614</td>\n",
              "      <td>23.3</td>\n",
              "    </tr>\n",
              "  </tbody>\n",
              "</table>\n",
              "<p>109095 rows × 6 columns</p>\n",
              "</div>"
            ],
            "text/plain": [
              "        SuhuMin  SuhuMax  Hujan  SinarMatahari  Awan3pm  Suhu3pm\n",
              "0          10.4     15.5    4.8       7.599527  4.51614     15.0\n",
              "1           9.0     17.0    8.0       7.400000  5.00000     15.5\n",
              "2          18.2     32.0    0.0       7.599527  4.51614     29.6\n",
              "3           7.3     24.5    0.0      10.400000  7.00000     23.2\n",
              "4           5.9     20.3    0.0      12.600000  6.00000     18.1\n",
              "...         ...      ...    ...            ...      ...      ...\n",
              "109090     20.1     23.7    0.0       8.900000  6.00000     22.1\n",
              "109091     15.7     25.2    0.0       7.599527  4.51614     24.4\n",
              "109092      7.5     20.4    1.6       7.599527  4.51614     19.8\n",
              "109093     10.8     29.8    0.0      11.200000  1.00000     29.2\n",
              "109094     12.3     27.4    9.0       7.599527  4.51614     23.3\n",
              "\n",
              "[109095 rows x 6 columns]"
            ]
          },
          "metadata": {
            "tags": []
          },
          "execution_count": 7
        }
      ]
    },
    {
      "cell_type": "code",
      "metadata": {
        "id": "Aa1vKR2RdxAC"
      },
      "source": [
        "df_a = df_salju['Awan3pm'].round(2)\n",
        "df_a = pd.DataFrame(data = df_a, columns = ['Awan3pm'])\n",
        "df_salju['Awan3pm'] = df_a"
      ],
      "execution_count": null,
      "outputs": []
    },
    {
      "cell_type": "code",
      "metadata": {
        "id": "B1ZqVa_wcEIm"
      },
      "source": [
        "df_t = df_salju['SinarMatahari'].round(2)\n",
        "df_t = pd.DataFrame(data = df_t, columns = ['SinarMatahari'])\n",
        "df_salju['SinarMatahari'] = df_t"
      ],
      "execution_count": null,
      "outputs": []
    },
    {
      "cell_type": "code",
      "metadata": {
        "id": "JUitFpfdcqsn",
        "colab": {
          "base_uri": "https://localhost:8080/",
          "height": 419
        },
        "outputId": "922fa120-7170-4ee9-9786-0c6b25a80e6d"
      },
      "source": [
        "df_salju"
      ],
      "execution_count": null,
      "outputs": [
        {
          "output_type": "execute_result",
          "data": {
            "text/html": [
              "<div>\n",
              "<style scoped>\n",
              "    .dataframe tbody tr th:only-of-type {\n",
              "        vertical-align: middle;\n",
              "    }\n",
              "\n",
              "    .dataframe tbody tr th {\n",
              "        vertical-align: top;\n",
              "    }\n",
              "\n",
              "    .dataframe thead th {\n",
              "        text-align: right;\n",
              "    }\n",
              "</style>\n",
              "<table border=\"1\" class=\"dataframe\">\n",
              "  <thead>\n",
              "    <tr style=\"text-align: right;\">\n",
              "      <th></th>\n",
              "      <th>SuhuMin</th>\n",
              "      <th>SuhuMax</th>\n",
              "      <th>Hujan</th>\n",
              "      <th>SinarMatahari</th>\n",
              "      <th>Awan3pm</th>\n",
              "      <th>Suhu3pm</th>\n",
              "    </tr>\n",
              "  </thead>\n",
              "  <tbody>\n",
              "    <tr>\n",
              "      <th>0</th>\n",
              "      <td>10.4</td>\n",
              "      <td>15.5</td>\n",
              "      <td>4.8</td>\n",
              "      <td>7.6</td>\n",
              "      <td>4.52</td>\n",
              "      <td>15.0</td>\n",
              "    </tr>\n",
              "    <tr>\n",
              "      <th>1</th>\n",
              "      <td>9.0</td>\n",
              "      <td>17.0</td>\n",
              "      <td>8.0</td>\n",
              "      <td>7.4</td>\n",
              "      <td>5.00</td>\n",
              "      <td>15.5</td>\n",
              "    </tr>\n",
              "    <tr>\n",
              "      <th>2</th>\n",
              "      <td>18.2</td>\n",
              "      <td>32.0</td>\n",
              "      <td>0.0</td>\n",
              "      <td>7.6</td>\n",
              "      <td>4.52</td>\n",
              "      <td>29.6</td>\n",
              "    </tr>\n",
              "    <tr>\n",
              "      <th>3</th>\n",
              "      <td>7.3</td>\n",
              "      <td>24.5</td>\n",
              "      <td>0.0</td>\n",
              "      <td>10.4</td>\n",
              "      <td>7.00</td>\n",
              "      <td>23.2</td>\n",
              "    </tr>\n",
              "    <tr>\n",
              "      <th>4</th>\n",
              "      <td>5.9</td>\n",
              "      <td>20.3</td>\n",
              "      <td>0.0</td>\n",
              "      <td>12.6</td>\n",
              "      <td>6.00</td>\n",
              "      <td>18.1</td>\n",
              "    </tr>\n",
              "    <tr>\n",
              "      <th>...</th>\n",
              "      <td>...</td>\n",
              "      <td>...</td>\n",
              "      <td>...</td>\n",
              "      <td>...</td>\n",
              "      <td>...</td>\n",
              "      <td>...</td>\n",
              "    </tr>\n",
              "    <tr>\n",
              "      <th>109090</th>\n",
              "      <td>20.1</td>\n",
              "      <td>23.7</td>\n",
              "      <td>0.0</td>\n",
              "      <td>8.9</td>\n",
              "      <td>6.00</td>\n",
              "      <td>22.1</td>\n",
              "    </tr>\n",
              "    <tr>\n",
              "      <th>109091</th>\n",
              "      <td>15.7</td>\n",
              "      <td>25.2</td>\n",
              "      <td>0.0</td>\n",
              "      <td>7.6</td>\n",
              "      <td>4.52</td>\n",
              "      <td>24.4</td>\n",
              "    </tr>\n",
              "    <tr>\n",
              "      <th>109092</th>\n",
              "      <td>7.5</td>\n",
              "      <td>20.4</td>\n",
              "      <td>1.6</td>\n",
              "      <td>7.6</td>\n",
              "      <td>4.52</td>\n",
              "      <td>19.8</td>\n",
              "    </tr>\n",
              "    <tr>\n",
              "      <th>109093</th>\n",
              "      <td>10.8</td>\n",
              "      <td>29.8</td>\n",
              "      <td>0.0</td>\n",
              "      <td>11.2</td>\n",
              "      <td>1.00</td>\n",
              "      <td>29.2</td>\n",
              "    </tr>\n",
              "    <tr>\n",
              "      <th>109094</th>\n",
              "      <td>12.3</td>\n",
              "      <td>27.4</td>\n",
              "      <td>9.0</td>\n",
              "      <td>7.6</td>\n",
              "      <td>4.52</td>\n",
              "      <td>23.3</td>\n",
              "    </tr>\n",
              "  </tbody>\n",
              "</table>\n",
              "<p>109095 rows × 6 columns</p>\n",
              "</div>"
            ],
            "text/plain": [
              "        SuhuMin  SuhuMax  Hujan  SinarMatahari  Awan3pm  Suhu3pm\n",
              "0          10.4     15.5    4.8            7.6     4.52     15.0\n",
              "1           9.0     17.0    8.0            7.4     5.00     15.5\n",
              "2          18.2     32.0    0.0            7.6     4.52     29.6\n",
              "3           7.3     24.5    0.0           10.4     7.00     23.2\n",
              "4           5.9     20.3    0.0           12.6     6.00     18.1\n",
              "...         ...      ...    ...            ...      ...      ...\n",
              "109090     20.1     23.7    0.0            8.9     6.00     22.1\n",
              "109091     15.7     25.2    0.0            7.6     4.52     24.4\n",
              "109092      7.5     20.4    1.6            7.6     4.52     19.8\n",
              "109093     10.8     29.8    0.0           11.2     1.00     29.2\n",
              "109094     12.3     27.4    9.0            7.6     4.52     23.3\n",
              "\n",
              "[109095 rows x 6 columns]"
            ]
          },
          "metadata": {
            "tags": []
          },
          "execution_count": 10
        }
      ]
    },
    {
      "cell_type": "markdown",
      "metadata": {
        "id": "Iqx7mc0NdKOc"
      },
      "source": [
        "**Outlier**\n",
        "> Menghapus Outliers atau data yang tidak stabil pada seluruh kolom yang ada, ini bertujuan untuk membuat data lebih bersih dan stabil"
      ]
    },
    {
      "cell_type": "code",
      "metadata": {
        "id": "q1shHGI6dmSS",
        "colab": {
          "base_uri": "https://localhost:8080/",
          "height": 343
        },
        "outputId": "a4ab0ccb-d2e2-40fe-a7b3-cab5607080c4"
      },
      "source": [
        "#mengecek outliers menggunakan boxplot dari seaborn\n",
        "f, a = plt.subplots(1, 6)\n",
        "mp.rcParams['figure.dpi'] = 120\n",
        "\n",
        "sns.boxplot(y=df_salju[\"SuhuMin\"], ax=a[0])\n",
        "sns.boxplot(y=df_salju[\"SuhuMax\"], ax=a[1])\n",
        "sns.boxplot(y=df_salju[\"Hujan\"], ax=a[2])\n",
        "sns.boxplot(y=df_salju[\"SinarMatahari\"], ax=a[3])\n",
        "sns.boxplot(y=df_salju[\"Awan3pm\"], ax=a[4])\n",
        "sns.boxplot(y=df_salju[\"Suhu3pm\"], ax=a[5])\n",
        "\n",
        "plt.subplots_adjust(wspace=10)"
      ],
      "execution_count": null,
      "outputs": [
        {
          "output_type": "display_data",
          "data": {
            "image/png": "[encoded data removed]",
            "text/plain": [
              "<Figure size 600x400 with 6 Axes>"
            ]
          },
          "metadata": {
            "tags": [],
            "needs_background": "light"
          }
        }
      ]
    },
    {
      "cell_type": "code",
      "metadata": {
        "id": "xzW7wDQadJc7"
      },
      "source": [
        "#fungsi untuk menghapus outlier\n",
        "def out(data, kolom):\n",
        "    atas = data[kolom].quantile(.75)\n",
        "    bawah = data[kolom].quantile(.25)\n",
        "    kuartil = atas-bawah\n",
        "\n",
        "    batasbawah = bawah - 1.5*kuartil\n",
        "    batasatas = atas + 1.5*kuartil\n",
        "    \n",
        "    res = data.loc[(data[kolom] > batasbawah) & (data[kolom] < batasatas)]\n",
        "\n",
        "    return res"
      ],
      "execution_count": null,
      "outputs": []
    },
    {
      "cell_type": "code",
      "metadata": {
        "id": "BlJm7v0Je5I9"
      },
      "source": [
        "#memanggil fungsi out dan dimasukan kembali kedalam dataframe\n",
        "df_salju = out(df_salju,'Hujan')\n",
        "df_salju = out(df_salju,'SinarMatahari')\n",
        "df_salju = out(df_salju,'SuhuMax')\n",
        "df_salju = out(df_salju,'Suhu3pm')\n",
        "df_salju = out(df_salju,'SuhuMin')\n",
        "df_salju = out(df_salju,'Awan3pm')"
      ],
      "execution_count": null,
      "outputs": []
    },
    {
      "cell_type": "code",
      "metadata": {
        "id": "wyX4p_yPfO_c",
        "colab": {
          "base_uri": "https://localhost:8080/",
          "height": 415
        },
        "outputId": "0f505912-d8ee-4bb8-f05b-e0be67382b70"
      },
      "source": [
        "#mengecek kembali outliers menggunakan boxplot dari seaborn\n",
        "f, a = plt.subplots(1, 6)\n",
        "mp.rcParams['figure.dpi'] = 100\n",
        "\n",
        "sns.boxplot(y=df_salju[\"SuhuMin\"], ax=a[0])\n",
        "sns.boxplot(y=df_salju[\"SuhuMax\"], ax=a[1])\n",
        "sns.boxplot(y=df_salju[\"Hujan\"], ax=a[2])\n",
        "sns.boxplot(y=df_salju[\"SinarMatahari\"], ax=a[3])\n",
        "sns.boxplot(y=df_salju[\"Awan3pm\"], ax=a[4])\n",
        "sns.boxplot(y=df_salju[\"Suhu3pm\"], ax=a[5])\n",
        "\n",
        "plt.subplots_adjust(wspace=10)"
      ],
      "execution_count": null,
      "outputs": [
        {
          "output_type": "display_data",
          "data": {
            "image/png": "[encoded data removed]",
            "text/plain": [
              "<Figure size 720x480 with 6 Axes>"
            ]
          },
          "metadata": {
            "tags": [],
            "needs_background": "light"
          }
        }
      ]
    },
    {
      "cell_type": "code",
      "metadata": {
        "id": "KUfy06ONjWaJ",
        "colab": {
          "base_uri": "https://localhost:8080/",
          "height": 419
        },
        "outputId": "6ab6fc56-8c00-430a-e8a6-7702aca0fca6"
      },
      "source": [
        "df_salju"
      ],
      "execution_count": null,
      "outputs": [
        {
          "output_type": "execute_result",
          "data": {
            "text/html": [
              "<div>\n",
              "<style scoped>\n",
              "    .dataframe tbody tr th:only-of-type {\n",
              "        vertical-align: middle;\n",
              "    }\n",
              "\n",
              "    .dataframe tbody tr th {\n",
              "        vertical-align: top;\n",
              "    }\n",
              "\n",
              "    .dataframe thead th {\n",
              "        text-align: right;\n",
              "    }\n",
              "</style>\n",
              "<table border=\"1\" class=\"dataframe\">\n",
              "  <thead>\n",
              "    <tr style=\"text-align: right;\">\n",
              "      <th></th>\n",
              "      <th>SuhuMin</th>\n",
              "      <th>SuhuMax</th>\n",
              "      <th>Hujan</th>\n",
              "      <th>SinarMatahari</th>\n",
              "      <th>Awan3pm</th>\n",
              "      <th>Suhu3pm</th>\n",
              "    </tr>\n",
              "  </thead>\n",
              "  <tbody>\n",
              "    <tr>\n",
              "      <th>2</th>\n",
              "      <td>18.2</td>\n",
              "      <td>32.0</td>\n",
              "      <td>0.0</td>\n",
              "      <td>7.6</td>\n",
              "      <td>4.52</td>\n",
              "      <td>29.6</td>\n",
              "    </tr>\n",
              "    <tr>\n",
              "      <th>6</th>\n",
              "      <td>7.7</td>\n",
              "      <td>18.7</td>\n",
              "      <td>0.2</td>\n",
              "      <td>9.7</td>\n",
              "      <td>1.00</td>\n",
              "      <td>18.3</td>\n",
              "    </tr>\n",
              "    <tr>\n",
              "      <th>14</th>\n",
              "      <td>6.5</td>\n",
              "      <td>17.0</td>\n",
              "      <td>0.0</td>\n",
              "      <td>7.6</td>\n",
              "      <td>4.52</td>\n",
              "      <td>16.1</td>\n",
              "    </tr>\n",
              "    <tr>\n",
              "      <th>15</th>\n",
              "      <td>9.3</td>\n",
              "      <td>19.3</td>\n",
              "      <td>0.0</td>\n",
              "      <td>7.0</td>\n",
              "      <td>5.00</td>\n",
              "      <td>18.4</td>\n",
              "    </tr>\n",
              "    <tr>\n",
              "      <th>16</th>\n",
              "      <td>10.7</td>\n",
              "      <td>24.1</td>\n",
              "      <td>0.2</td>\n",
              "      <td>7.6</td>\n",
              "      <td>4.52</td>\n",
              "      <td>23.6</td>\n",
              "    </tr>\n",
              "    <tr>\n",
              "      <th>...</th>\n",
              "      <td>...</td>\n",
              "      <td>...</td>\n",
              "      <td>...</td>\n",
              "      <td>...</td>\n",
              "      <td>...</td>\n",
              "      <td>...</td>\n",
              "    </tr>\n",
              "    <tr>\n",
              "      <th>109087</th>\n",
              "      <td>5.1</td>\n",
              "      <td>23.4</td>\n",
              "      <td>0.0</td>\n",
              "      <td>7.6</td>\n",
              "      <td>1.00</td>\n",
              "      <td>22.5</td>\n",
              "    </tr>\n",
              "    <tr>\n",
              "      <th>109089</th>\n",
              "      <td>18.7</td>\n",
              "      <td>23.9</td>\n",
              "      <td>0.0</td>\n",
              "      <td>7.6</td>\n",
              "      <td>1.00</td>\n",
              "      <td>22.4</td>\n",
              "    </tr>\n",
              "    <tr>\n",
              "      <th>109090</th>\n",
              "      <td>20.1</td>\n",
              "      <td>23.7</td>\n",
              "      <td>0.0</td>\n",
              "      <td>8.9</td>\n",
              "      <td>6.00</td>\n",
              "      <td>22.1</td>\n",
              "    </tr>\n",
              "    <tr>\n",
              "      <th>109091</th>\n",
              "      <td>15.7</td>\n",
              "      <td>25.2</td>\n",
              "      <td>0.0</td>\n",
              "      <td>7.6</td>\n",
              "      <td>4.52</td>\n",
              "      <td>24.4</td>\n",
              "    </tr>\n",
              "    <tr>\n",
              "      <th>109093</th>\n",
              "      <td>10.8</td>\n",
              "      <td>29.8</td>\n",
              "      <td>0.0</td>\n",
              "      <td>11.2</td>\n",
              "      <td>1.00</td>\n",
              "      <td>29.2</td>\n",
              "    </tr>\n",
              "  </tbody>\n",
              "</table>\n",
              "<p>59059 rows × 6 columns</p>\n",
              "</div>"
            ],
            "text/plain": [
              "        SuhuMin  SuhuMax  Hujan  SinarMatahari  Awan3pm  Suhu3pm\n",
              "2          18.2     32.0    0.0            7.6     4.52     29.6\n",
              "6           7.7     18.7    0.2            9.7     1.00     18.3\n",
              "14          6.5     17.0    0.0            7.6     4.52     16.1\n",
              "15          9.3     19.3    0.0            7.0     5.00     18.4\n",
              "16         10.7     24.1    0.2            7.6     4.52     23.6\n",
              "...         ...      ...    ...            ...      ...      ...\n",
              "109087      5.1     23.4    0.0            7.6     1.00     22.5\n",
              "109089     18.7     23.9    0.0            7.6     1.00     22.4\n",
              "109090     20.1     23.7    0.0            8.9     6.00     22.1\n",
              "109091     15.7     25.2    0.0            7.6     4.52     24.4\n",
              "109093     10.8     29.8    0.0           11.2     1.00     29.2\n",
              "\n",
              "[59059 rows x 6 columns]"
            ]
          },
          "metadata": {
            "tags": []
          },
          "execution_count": 16
        }
      ]
    },
    {
      "cell_type": "markdown",
      "metadata": {
        "id": "Rnf6DnoVdGwT"
      },
      "source": [
        "**Scaling**\n",
        "> Scaling dengan menggunakan StandardScaler, ini dipilih untuk membuat persebaran data setiap kolomnya tidak terlalu jauh dan angkanya masih bervariasi"
      ]
    },
    {
      "cell_type": "code",
      "metadata": {
        "id": "TviogWYsdF0B"
      },
      "source": [
        "scale = StandardScaler()\n",
        "scale.fit(df_salju)\n",
        "temp =scale.transform(df_salju)\n",
        "df_br = pd.DataFrame(temp, index=df_salju.index, columns=df_salju.columns)"
      ],
      "execution_count": null,
      "outputs": []
    },
    {
      "cell_type": "code",
      "metadata": {
        "id": "QI_XOhurXRqP",
        "colab": {
          "base_uri": "https://localhost:8080/",
          "height": 419
        },
        "outputId": "86f05086-b7ff-46a4-d9c3-089b751497f0"
      },
      "source": [
        "df_br"
      ],
      "execution_count": null,
      "outputs": [
        {
          "output_type": "execute_result",
          "data": {
            "text/html": [
              "<div>\n",
              "<style scoped>\n",
              "    .dataframe tbody tr th:only-of-type {\n",
              "        vertical-align: middle;\n",
              "    }\n",
              "\n",
              "    .dataframe tbody tr th {\n",
              "        vertical-align: top;\n",
              "    }\n",
              "\n",
              "    .dataframe thead th {\n",
              "        text-align: right;\n",
              "    }\n",
              "</style>\n",
              "<table border=\"1\" class=\"dataframe\">\n",
              "  <thead>\n",
              "    <tr style=\"text-align: right;\">\n",
              "      <th></th>\n",
              "      <th>SuhuMin</th>\n",
              "      <th>SuhuMax</th>\n",
              "      <th>Hujan</th>\n",
              "      <th>SinarMatahari</th>\n",
              "      <th>Awan3pm</th>\n",
              "      <th>Suhu3pm</th>\n",
              "    </tr>\n",
              "  </thead>\n",
              "  <tbody>\n",
              "    <tr>\n",
              "      <th>2</th>\n",
              "      <td>1.018825</td>\n",
              "      <td>1.217570</td>\n",
              "      <td>-0.362904</td>\n",
              "      <td>-0.483745</td>\n",
              "      <td>0.455387</td>\n",
              "      <td>1.130372</td>\n",
              "    </tr>\n",
              "    <tr>\n",
              "      <th>6</th>\n",
              "      <td>-0.624402</td>\n",
              "      <td>-0.816859</td>\n",
              "      <td>0.416228</td>\n",
              "      <td>1.096181</td>\n",
              "      <td>-2.013777</td>\n",
              "      <td>-0.677960</td>\n",
              "    </tr>\n",
              "    <tr>\n",
              "      <th>14</th>\n",
              "      <td>-0.812199</td>\n",
              "      <td>-1.076898</td>\n",
              "      <td>-0.362904</td>\n",
              "      <td>-0.483745</td>\n",
              "      <td>0.455387</td>\n",
              "      <td>-1.030024</td>\n",
              "    </tr>\n",
              "    <tr>\n",
              "      <th>15</th>\n",
              "      <td>-0.374006</td>\n",
              "      <td>-0.725080</td>\n",
              "      <td>-0.362904</td>\n",
              "      <td>-0.935152</td>\n",
              "      <td>0.792091</td>\n",
              "      <td>-0.661957</td>\n",
              "    </tr>\n",
              "    <tr>\n",
              "      <th>16</th>\n",
              "      <td>-0.154909</td>\n",
              "      <td>0.009150</td>\n",
              "      <td>0.416228</td>\n",
              "      <td>-0.483745</td>\n",
              "      <td>0.455387</td>\n",
              "      <td>0.170196</td>\n",
              "    </tr>\n",
              "    <tr>\n",
              "      <th>...</th>\n",
              "      <td>...</td>\n",
              "      <td>...</td>\n",
              "      <td>...</td>\n",
              "      <td>...</td>\n",
              "      <td>...</td>\n",
              "      <td>...</td>\n",
              "    </tr>\n",
              "    <tr>\n",
              "      <th>109087</th>\n",
              "      <td>-1.031296</td>\n",
              "      <td>-0.097925</td>\n",
              "      <td>-0.362904</td>\n",
              "      <td>-0.483745</td>\n",
              "      <td>-2.013777</td>\n",
              "      <td>-0.005836</td>\n",
              "    </tr>\n",
              "    <tr>\n",
              "      <th>109089</th>\n",
              "      <td>1.097074</td>\n",
              "      <td>-0.021443</td>\n",
              "      <td>-0.362904</td>\n",
              "      <td>-0.483745</td>\n",
              "      <td>-2.013777</td>\n",
              "      <td>-0.021839</td>\n",
              "    </tr>\n",
              "    <tr>\n",
              "      <th>109090</th>\n",
              "      <td>1.316171</td>\n",
              "      <td>-0.052036</td>\n",
              "      <td>-0.362904</td>\n",
              "      <td>0.494304</td>\n",
              "      <td>1.493558</td>\n",
              "      <td>-0.069848</td>\n",
              "    </tr>\n",
              "    <tr>\n",
              "      <th>109091</th>\n",
              "      <td>0.627580</td>\n",
              "      <td>0.177411</td>\n",
              "      <td>-0.362904</td>\n",
              "      <td>-0.483745</td>\n",
              "      <td>0.455387</td>\n",
              "      <td>0.298219</td>\n",
              "    </tr>\n",
              "    <tr>\n",
              "      <th>109093</th>\n",
              "      <td>-0.139259</td>\n",
              "      <td>0.881048</td>\n",
              "      <td>-0.362904</td>\n",
              "      <td>2.224699</td>\n",
              "      <td>-2.013777</td>\n",
              "      <td>1.066360</td>\n",
              "    </tr>\n",
              "  </tbody>\n",
              "</table>\n",
              "<p>59059 rows × 6 columns</p>\n",
              "</div>"
            ],
            "text/plain": [
              "         SuhuMin   SuhuMax     Hujan  SinarMatahari   Awan3pm   Suhu3pm\n",
              "2       1.018825  1.217570 -0.362904      -0.483745  0.455387  1.130372\n",
              "6      -0.624402 -0.816859  0.416228       1.096181 -2.013777 -0.677960\n",
              "14     -0.812199 -1.076898 -0.362904      -0.483745  0.455387 -1.030024\n",
              "15     -0.374006 -0.725080 -0.362904      -0.935152  0.792091 -0.661957\n",
              "16     -0.154909  0.009150  0.416228      -0.483745  0.455387  0.170196\n",
              "...          ...       ...       ...            ...       ...       ...\n",
              "109087 -1.031296 -0.097925 -0.362904      -0.483745 -2.013777 -0.005836\n",
              "109089  1.097074 -0.021443 -0.362904      -0.483745 -2.013777 -0.021839\n",
              "109090  1.316171 -0.052036 -0.362904       0.494304  1.493558 -0.069848\n",
              "109091  0.627580  0.177411 -0.362904      -0.483745  0.455387  0.298219\n",
              "109093 -0.139259  0.881048 -0.362904       2.224699 -2.013777  1.066360\n",
              "\n",
              "[59059 rows x 6 columns]"
            ]
          },
          "metadata": {
            "tags": []
          },
          "execution_count": 18
        }
      ]
    },
    {
      "cell_type": "markdown",
      "metadata": {
        "id": "nbwu-T5D8X9V"
      },
      "source": [
        "**Export Data**\n",
        "> Export data dengan format csv"
      ]
    },
    {
      "cell_type": "code",
      "metadata": {
        "id": "ISC3CJ2x-6iJ"
      },
      "source": [
        "df_br.to_csv(\"drive/My Drive/TubesMalin/salju_praproses.csv\") "
      ],
      "execution_count": null,
      "outputs": []
    },
    {
      "cell_type": "markdown",
      "metadata": {
        "id": "ZfKHtbWN4z_P"
      },
      "source": [
        "**Feature Selection**\n",
        "> Melakukan Feature Selection dengan menggunakan PCA, ini berfungsi untuk mereduksi data menjadi 2 kolom untuk selanjutnya digunakan dalam clustering"
      ]
    },
    {
      "cell_type": "code",
      "metadata": {
        "id": "eWIET6IUkYtW",
        "colab": {
          "base_uri": "https://localhost:8080/",
          "height": 419
        },
        "outputId": "79823946-10e0-4464-bfbb-541efff9baba"
      },
      "source": [
        "#memanggil PCA dan dimasukan kedalam dataframe agar data dapat terlihat jelas\n",
        "pca = PCA(n_components=2)\n",
        "df = pca.fit_transform(df_br)\n",
        "df = pd.DataFrame(data = df, columns = ['x', 'y'])\n",
        "df"
      ],
      "execution_count": null,
      "outputs": [
        {
          "output_type": "execute_result",
          "data": {
            "text/html": [
              "<div>\n",
              "<style scoped>\n",
              "    .dataframe tbody tr th:only-of-type {\n",
              "        vertical-align: middle;\n",
              "    }\n",
              "\n",
              "    .dataframe tbody tr th {\n",
              "        vertical-align: top;\n",
              "    }\n",
              "\n",
              "    .dataframe thead th {\n",
              "        text-align: right;\n",
              "    }\n",
              "</style>\n",
              "<table border=\"1\" class=\"dataframe\">\n",
              "  <thead>\n",
              "    <tr style=\"text-align: right;\">\n",
              "      <th></th>\n",
              "      <th>x</th>\n",
              "      <th>y</th>\n",
              "    </tr>\n",
              "  </thead>\n",
              "  <tbody>\n",
              "    <tr>\n",
              "      <th>0</th>\n",
              "      <td>-1.754703</td>\n",
              "      <td>-1.078530</td>\n",
              "    </tr>\n",
              "    <tr>\n",
              "      <th>1</th>\n",
              "      <td>0.753174</td>\n",
              "      <td>2.397362</td>\n",
              "    </tr>\n",
              "    <tr>\n",
              "      <th>2</th>\n",
              "      <td>1.742130</td>\n",
              "      <td>-0.171045</td>\n",
              "    </tr>\n",
              "    <tr>\n",
              "      <th>3</th>\n",
              "      <td>1.244469</td>\n",
              "      <td>-0.871032</td>\n",
              "    </tr>\n",
              "    <tr>\n",
              "      <th>4</th>\n",
              "      <td>0.187231</td>\n",
              "      <td>-0.680066</td>\n",
              "    </tr>\n",
              "    <tr>\n",
              "      <th>...</th>\n",
              "      <td>...</td>\n",
              "      <td>...</td>\n",
              "    </tr>\n",
              "    <tr>\n",
              "      <th>59054</th>\n",
              "      <td>0.413417</td>\n",
              "      <td>1.366919</td>\n",
              "    </tr>\n",
              "    <tr>\n",
              "      <th>59055</th>\n",
              "      <td>-0.700708</td>\n",
              "      <td>0.990344</td>\n",
              "    </tr>\n",
              "    <tr>\n",
              "      <th>59056</th>\n",
              "      <td>-0.579595</td>\n",
              "      <td>-0.918158</td>\n",
              "    </tr>\n",
              "    <tr>\n",
              "      <th>59057</th>\n",
              "      <td>-0.476531</td>\n",
              "      <td>-0.760026</td>\n",
              "    </tr>\n",
              "    <tr>\n",
              "      <th>59058</th>\n",
              "      <td>-1.824838</td>\n",
              "      <td>2.675605</td>\n",
              "    </tr>\n",
              "  </tbody>\n",
              "</table>\n",
              "<p>59059 rows × 2 columns</p>\n",
              "</div>"
            ],
            "text/plain": [
              "              x         y\n",
              "0     -1.754703 -1.078530\n",
              "1      0.753174  2.397362\n",
              "2      1.742130 -0.171045\n",
              "3      1.244469 -0.871032\n",
              "4      0.187231 -0.680066\n",
              "...         ...       ...\n",
              "59054  0.413417  1.366919\n",
              "59055 -0.700708  0.990344\n",
              "59056 -0.579595 -0.918158\n",
              "59057 -0.476531 -0.760026\n",
              "59058 -1.824838  2.675605\n",
              "\n",
              "[59059 rows x 2 columns]"
            ]
          },
          "metadata": {
            "tags": []
          },
          "execution_count": 20
        }
      ]
    },
    {
      "cell_type": "code",
      "metadata": {
        "id": "vbtF0PD9ADL4",
        "colab": {
          "base_uri": "https://localhost:8080/"
        },
        "outputId": "f756c694-a404-4700-81d1-fe79aa670d9c"
      },
      "source": [
        "#memasukan dataframe kedalam array untuk proses clustering\n",
        "arr = np.array(list(zip(df['x'], df['y'])))\n",
        "print(arr)"
      ],
      "execution_count": null,
      "outputs": [
        {
          "output_type": "stream",
          "text": [
            "[[-1.75470258 -1.07852983]\n",
            " [ 0.75317379  2.39736176]\n",
            " [ 1.74212972 -0.17104509]\n",
            " ...\n",
            " [-0.57959499 -0.9181578 ]\n",
            " [-0.4765308  -0.76002629]\n",
            " [-1.82483802  2.67560473]]\n"
          ],
          "name": "stdout"
        }
      ]
    },
    {
      "cell_type": "code",
      "metadata": {
        "id": "Y-JQYaSTkdY5",
        "colab": {
          "base_uri": "https://localhost:8080/",
          "height": 381
        },
        "outputId": "0a04b3d0-e726-4aba-eca5-63c2e2b2a3df"
      },
      "source": [
        "#plot hasil PCA dengan scatterplot\n",
        "x=arr[:,0]\n",
        "y=arr[:,1]\n",
        "sns.scatterplot(x, y, s=5, color='red')"
      ],
      "execution_count": null,
      "outputs": [
        {
          "output_type": "execute_result",
          "data": {
            "text/plain": [
              "<matplotlib.axes._subplots.AxesSubplot at 0x7f893c1b9c50>"
            ]
          },
          "metadata": {
            "tags": []
          },
          "execution_count": 22
        },
        {
          "output_type": "display_data",
          "data": {
            "image/png": "[encoded data removed]",
            "text/plain": [
              "<Figure size 600x400 with 1 Axes>"
            ]
          },
          "metadata": {
            "tags": [],
            "needs_background": "light"
          }
        }
      ]
    },
    {
      "cell_type": "markdown",
      "metadata": {
        "id": "5oCkXAEf6C9W"
      },
      "source": [
        "# Pemodelan / Clustering"
      ]
    },
    {
      "cell_type": "markdown",
      "metadata": {
        "id": "RqY0Km67BTuz"
      },
      "source": [
        "**Euclidian Distance**\n",
        "> Membuat fungsi untuk menghitung jarak berdasarkan rumus Euclidian"
      ]
    },
    {
      "cell_type": "code",
      "metadata": {
        "id": "tkedYf9w5Upj"
      },
      "source": [
        "def euc(a, b, ax=1):\n",
        "    kurang = a-b\n",
        "    hasil = np.linalg.norm(kurang, axis=ax)\n",
        "    return hasil"
      ],
      "execution_count": null,
      "outputs": []
    },
    {
      "cell_type": "markdown",
      "metadata": {
        "id": "6MG0vhVZFwlE"
      },
      "source": [
        "**Mencari Centroid**\n",
        "> Mengenerate centroid secara random dengan nilai minimun dan maximun yang terdapat pada array yang menampung data salju"
      ]
    },
    {
      "cell_type": "code",
      "metadata": {
        "id": "II63DuyYFwu8",
        "colab": {
          "base_uri": "https://localhost:8080/"
        },
        "outputId": "074c337d-c3db-4029-f563-5b261851f454"
      },
      "source": [
        "k = 3\n",
        "min = np.min(arr)\n",
        "max = np.max(arr)\n",
        "\n",
        "centro1 = np.random.randint(min, max, size=k)\n",
        "centro2 = np.random.randint(min, max, size=k)\n",
        "centroid = np.array(list(zip(centro1, centro2)))\n",
        "print(centroid)"
      ],
      "execution_count": null,
      "outputs": [
        {
          "output_type": "stream",
          "text": [
            "[[ 3  4]\n",
            " [-4  4]\n",
            " [ 4  1]]\n"
          ],
          "name": "stdout"
        }
      ]
    },
    {
      "cell_type": "markdown",
      "metadata": {
        "id": "LBiNYCFqBaPo"
      },
      "source": [
        "**K Means**\n",
        "> Melakukan Clustering dengan K Means "
      ]
    },
    {
      "cell_type": "code",
      "metadata": {
        "id": "tB1mcmhxLe7s"
      },
      "source": [
        "#membuat arrclus untuk menampung hasil cluster dan arrC untuk menampung nilai centroid sebelumnya lalu array titik untuk menapung pengelompokan\n",
        "arrclus = np.zeros(len(arr))\n",
        "arrC = np.zeros(centroid.shape)\n",
        "titik = []\n",
        "temp = []\n",
        "#menghitung jarak awal untuk stop parameter\n",
        "stop = euc(centroid, arrC, None)\n",
        "\n",
        "while stop != 0:\n",
        "    #looping sebanyak data untuk menhitung jarak minimun dari tiap titik yang ada lalu dimasukan ke arrayclus\n",
        "    for i in range(len(arr)):\n",
        "        jarak = euc(arr[i], centroid) \n",
        "        cluster = np.argmin(jarak) \n",
        "        arrclus[i] = cluster \n",
        "    #mencopy nilai centroid sebelumnya\n",
        "    arrC = deepcopy(centroid) \n",
        "\n",
        "    #looping untuk mengelompokan titik yang daerahnya berdekatan lalu mengubah nilai centroidnya\n",
        "    for i in range(k): \n",
        "        titik = [arr[j] for j in range(len(arr)) if arrclus[j] == i] \n",
        "        centroid[i] = np.mean(titik, axis=0) \n",
        "        temp.append(arrclus)\n",
        "\n",
        "    #menghitung ulang jarak untuk stop parameter\n",
        "    stop = euc(centroid, arrC, None)"
      ],
      "execution_count": null,
      "outputs": []
    },
    {
      "cell_type": "code",
      "metadata": {
        "id": "ofIDF7Hrc9ar",
        "colab": {
          "base_uri": "https://localhost:8080/",
          "height": 402
        },
        "outputId": "d12c554f-5ee5-4723-9c07-f8b303083e47"
      },
      "source": [
        "#visualisasi K Means \n",
        "fig, ax = plt.subplots()\n",
        "warna = ['red', 'forestgreen', 'navy', 'gold', 'violet', 'turquoise', 'grey']\n",
        "\n",
        "#visualisasi tiap iterasi K nya\n",
        "for i in range(k):\n",
        "        titik = np.array([arr[j] for j in range(len(arr)) if arrclus[j] == i])\n",
        "        x = titik[:, 0]\n",
        "        y = titik[:, 1]\n",
        "        ax.scatter(x, y, s=5, c=warna[i])\n",
        "\n",
        "#visualisasi centroid\n",
        "x_clus = centroid[:, 0]\n",
        "y_clus = centroid[:, 1]        \n",
        "ax.scatter(x_clus, y_clus, marker='H', s=100, color='yellow')\n",
        "plt.title(\"Clustering Data Salju\")\n",
        "plt.show"
      ],
      "execution_count": null,
      "outputs": [
        {
          "output_type": "execute_result",
          "data": {
            "text/plain": [
              "<function matplotlib.pyplot.show>"
            ]
          },
          "metadata": {
            "tags": []
          },
          "execution_count": 29
        },
        {
          "output_type": "display_data",
          "data": {
            "image/png": "[encoded data removed]",
            "text/plain": [
              "<Figure size 600x400 with 1 Axes>"
            ]
          },
          "metadata": {
            "tags": [],
            "needs_background": "light"
          }
        }
      ]
    },
    {
      "cell_type": "code",
      "metadata": {
        "colab": {
          "base_uri": "https://localhost:8080/"
        },
        "id": "g6KsNJx28mAP",
        "outputId": "994e1000-d5be-48b1-9a6f-74fc367479fc"
      },
      "source": [
        "#menunjukan bahwa centroid telah berubah dari nilai asal\n",
        "print(centroid)"
      ],
      "execution_count": null,
      "outputs": [
        {
          "output_type": "stream",
          "text": [
            "[[ 0  1]\n",
            " [-2  0]\n",
            " [ 0  0]]\n"
          ],
          "name": "stdout"
        }
      ]
    },
    {
      "cell_type": "markdown",
      "metadata": {
        "id": "1xQBTumn8hZT"
      },
      "source": [
        "**Export Data**\n",
        "> Export data hasil clustering dengan format csv dengan menambah kolom cluster"
      ]
    },
    {
      "cell_type": "code",
      "metadata": {
        "id": "nu6vrbZEBerE",
        "colab": {
          "base_uri": "https://localhost:8080/",
          "height": 419
        },
        "outputId": "993744dd-72ab-4494-bd2e-6adac9cf92fd"
      },
      "source": [
        "df_br[\"Cluster\"] = arrclus\n",
        "df_br"
      ],
      "execution_count": null,
      "outputs": [
        {
          "output_type": "execute_result",
          "data": {
            "text/html": [
              "<div>\n",
              "<style scoped>\n",
              "    .dataframe tbody tr th:only-of-type {\n",
              "        vertical-align: middle;\n",
              "    }\n",
              "\n",
              "    .dataframe tbody tr th {\n",
              "        vertical-align: top;\n",
              "    }\n",
              "\n",
              "    .dataframe thead th {\n",
              "        text-align: right;\n",
              "    }\n",
              "</style>\n",
              "<table border=\"1\" class=\"dataframe\">\n",
              "  <thead>\n",
              "    <tr style=\"text-align: right;\">\n",
              "      <th></th>\n",
              "      <th>SuhuMin</th>\n",
              "      <th>SuhuMax</th>\n",
              "      <th>Hujan</th>\n",
              "      <th>SinarMatahari</th>\n",
              "      <th>Awan3pm</th>\n",
              "      <th>Suhu3pm</th>\n",
              "      <th>Cluster</th>\n",
              "    </tr>\n",
              "  </thead>\n",
              "  <tbody>\n",
              "    <tr>\n",
              "      <th>2</th>\n",
              "      <td>1.018825</td>\n",
              "      <td>1.217570</td>\n",
              "      <td>-0.362904</td>\n",
              "      <td>-0.483745</td>\n",
              "      <td>0.455387</td>\n",
              "      <td>1.130372</td>\n",
              "      <td>1.0</td>\n",
              "    </tr>\n",
              "    <tr>\n",
              "      <th>6</th>\n",
              "      <td>-0.624402</td>\n",
              "      <td>-0.816859</td>\n",
              "      <td>0.416228</td>\n",
              "      <td>1.096181</td>\n",
              "      <td>-2.013777</td>\n",
              "      <td>-0.677960</td>\n",
              "      <td>0.0</td>\n",
              "    </tr>\n",
              "    <tr>\n",
              "      <th>14</th>\n",
              "      <td>-0.812199</td>\n",
              "      <td>-1.076898</td>\n",
              "      <td>-0.362904</td>\n",
              "      <td>-0.483745</td>\n",
              "      <td>0.455387</td>\n",
              "      <td>-1.030024</td>\n",
              "      <td>2.0</td>\n",
              "    </tr>\n",
              "    <tr>\n",
              "      <th>15</th>\n",
              "      <td>-0.374006</td>\n",
              "      <td>-0.725080</td>\n",
              "      <td>-0.362904</td>\n",
              "      <td>-0.935152</td>\n",
              "      <td>0.792091</td>\n",
              "      <td>-0.661957</td>\n",
              "      <td>2.0</td>\n",
              "    </tr>\n",
              "    <tr>\n",
              "      <th>16</th>\n",
              "      <td>-0.154909</td>\n",
              "      <td>0.009150</td>\n",
              "      <td>0.416228</td>\n",
              "      <td>-0.483745</td>\n",
              "      <td>0.455387</td>\n",
              "      <td>0.170196</td>\n",
              "      <td>2.0</td>\n",
              "    </tr>\n",
              "    <tr>\n",
              "      <th>...</th>\n",
              "      <td>...</td>\n",
              "      <td>...</td>\n",
              "      <td>...</td>\n",
              "      <td>...</td>\n",
              "      <td>...</td>\n",
              "      <td>...</td>\n",
              "      <td>...</td>\n",
              "    </tr>\n",
              "    <tr>\n",
              "      <th>109087</th>\n",
              "      <td>-1.031296</td>\n",
              "      <td>-0.097925</td>\n",
              "      <td>-0.362904</td>\n",
              "      <td>-0.483745</td>\n",
              "      <td>-2.013777</td>\n",
              "      <td>-0.005836</td>\n",
              "      <td>0.0</td>\n",
              "    </tr>\n",
              "    <tr>\n",
              "      <th>109089</th>\n",
              "      <td>1.097074</td>\n",
              "      <td>-0.021443</td>\n",
              "      <td>-0.362904</td>\n",
              "      <td>-0.483745</td>\n",
              "      <td>-2.013777</td>\n",
              "      <td>-0.021839</td>\n",
              "      <td>0.0</td>\n",
              "    </tr>\n",
              "    <tr>\n",
              "      <th>109090</th>\n",
              "      <td>1.316171</td>\n",
              "      <td>-0.052036</td>\n",
              "      <td>-0.362904</td>\n",
              "      <td>0.494304</td>\n",
              "      <td>1.493558</td>\n",
              "      <td>-0.069848</td>\n",
              "      <td>2.0</td>\n",
              "    </tr>\n",
              "    <tr>\n",
              "      <th>109091</th>\n",
              "      <td>0.627580</td>\n",
              "      <td>0.177411</td>\n",
              "      <td>-0.362904</td>\n",
              "      <td>-0.483745</td>\n",
              "      <td>0.455387</td>\n",
              "      <td>0.298219</td>\n",
              "      <td>2.0</td>\n",
              "    </tr>\n",
              "    <tr>\n",
              "      <th>109093</th>\n",
              "      <td>-0.139259</td>\n",
              "      <td>0.881048</td>\n",
              "      <td>-0.362904</td>\n",
              "      <td>2.224699</td>\n",
              "      <td>-2.013777</td>\n",
              "      <td>1.066360</td>\n",
              "      <td>0.0</td>\n",
              "    </tr>\n",
              "  </tbody>\n",
              "</table>\n",
              "<p>59059 rows × 7 columns</p>\n",
              "</div>"
            ],
            "text/plain": [
              "         SuhuMin   SuhuMax     Hujan  ...   Awan3pm   Suhu3pm  Cluster\n",
              "2       1.018825  1.217570 -0.362904  ...  0.455387  1.130372      1.0\n",
              "6      -0.624402 -0.816859  0.416228  ... -2.013777 -0.677960      0.0\n",
              "14     -0.812199 -1.076898 -0.362904  ...  0.455387 -1.030024      2.0\n",
              "15     -0.374006 -0.725080 -0.362904  ...  0.792091 -0.661957      2.0\n",
              "16     -0.154909  0.009150  0.416228  ...  0.455387  0.170196      2.0\n",
              "...          ...       ...       ...  ...       ...       ...      ...\n",
              "109087 -1.031296 -0.097925 -0.362904  ... -2.013777 -0.005836      0.0\n",
              "109089  1.097074 -0.021443 -0.362904  ... -2.013777 -0.021839      0.0\n",
              "109090  1.316171 -0.052036 -0.362904  ...  1.493558 -0.069848      2.0\n",
              "109091  0.627580  0.177411 -0.362904  ...  0.455387  0.298219      2.0\n",
              "109093 -0.139259  0.881048 -0.362904  ... -2.013777  1.066360      0.0\n",
              "\n",
              "[59059 rows x 7 columns]"
            ]
          },
          "metadata": {
            "tags": []
          },
          "execution_count": 31
        }
      ]
    },
    {
      "cell_type": "code",
      "metadata": {
        "id": "vb8fMZEo88r_"
      },
      "source": [
        "df_br.to_csv(\"drive/My Drive/TubesMalin/salju_cluster.csv\") "
      ],
      "execution_count": null,
      "outputs": []
    },
    {
      "cell_type": "markdown",
      "metadata": {
        "id": "1fXlkqfF5VHW"
      },
      "source": [
        "# Evaluasi"
      ]
    },
    {
      "cell_type": "markdown",
      "metadata": {
        "id": "gDgTM8e6mYqV"
      },
      "source": [
        "**Elbow Method**\n",
        "> Evaluasi menggunakan Elbow Method, ini dilakukan untuk mengkomparasi dari clustering sebelumnya"
      ]
    },
    {
      "cell_type": "code",
      "metadata": {
        "colab": {
          "base_uri": "https://localhost:8080/",
          "height": 419
        },
        "id": "Yvs-67AQntwA",
        "outputId": "807cd418-e4ee-49e5-a5b7-751bd44ccab4"
      },
      "source": [
        "#dataset yang digunakan\n",
        "df"
      ],
      "execution_count": null,
      "outputs": [
        {
          "output_type": "execute_result",
          "data": {
            "text/html": [
              "<div>\n",
              "<style scoped>\n",
              "    .dataframe tbody tr th:only-of-type {\n",
              "        vertical-align: middle;\n",
              "    }\n",
              "\n",
              "    .dataframe tbody tr th {\n",
              "        vertical-align: top;\n",
              "    }\n",
              "\n",
              "    .dataframe thead th {\n",
              "        text-align: right;\n",
              "    }\n",
              "</style>\n",
              "<table border=\"1\" class=\"dataframe\">\n",
              "  <thead>\n",
              "    <tr style=\"text-align: right;\">\n",
              "      <th></th>\n",
              "      <th>x</th>\n",
              "      <th>y</th>\n",
              "    </tr>\n",
              "  </thead>\n",
              "  <tbody>\n",
              "    <tr>\n",
              "      <th>0</th>\n",
              "      <td>-1.754703</td>\n",
              "      <td>-1.078530</td>\n",
              "    </tr>\n",
              "    <tr>\n",
              "      <th>1</th>\n",
              "      <td>0.753174</td>\n",
              "      <td>2.397362</td>\n",
              "    </tr>\n",
              "    <tr>\n",
              "      <th>2</th>\n",
              "      <td>1.742130</td>\n",
              "      <td>-0.171045</td>\n",
              "    </tr>\n",
              "    <tr>\n",
              "      <th>3</th>\n",
              "      <td>1.244469</td>\n",
              "      <td>-0.871032</td>\n",
              "    </tr>\n",
              "    <tr>\n",
              "      <th>4</th>\n",
              "      <td>0.187231</td>\n",
              "      <td>-0.680066</td>\n",
              "    </tr>\n",
              "    <tr>\n",
              "      <th>...</th>\n",
              "      <td>...</td>\n",
              "      <td>...</td>\n",
              "    </tr>\n",
              "    <tr>\n",
              "      <th>59054</th>\n",
              "      <td>0.413417</td>\n",
              "      <td>1.366919</td>\n",
              "    </tr>\n",
              "    <tr>\n",
              "      <th>59055</th>\n",
              "      <td>-0.700708</td>\n",
              "      <td>0.990344</td>\n",
              "    </tr>\n",
              "    <tr>\n",
              "      <th>59056</th>\n",
              "      <td>-0.579595</td>\n",
              "      <td>-0.918158</td>\n",
              "    </tr>\n",
              "    <tr>\n",
              "      <th>59057</th>\n",
              "      <td>-0.476531</td>\n",
              "      <td>-0.760026</td>\n",
              "    </tr>\n",
              "    <tr>\n",
              "      <th>59058</th>\n",
              "      <td>-1.824838</td>\n",
              "      <td>2.675605</td>\n",
              "    </tr>\n",
              "  </tbody>\n",
              "</table>\n",
              "<p>59059 rows × 2 columns</p>\n",
              "</div>"
            ],
            "text/plain": [
              "              x         y\n",
              "0     -1.754703 -1.078530\n",
              "1      0.753174  2.397362\n",
              "2      1.742130 -0.171045\n",
              "3      1.244469 -0.871032\n",
              "4      0.187231 -0.680066\n",
              "...         ...       ...\n",
              "59054  0.413417  1.366919\n",
              "59055 -0.700708  0.990344\n",
              "59056 -0.579595 -0.918158\n",
              "59057 -0.476531 -0.760026\n",
              "59058 -1.824838  2.675605\n",
              "\n",
              "[59059 rows x 2 columns]"
            ]
          },
          "metadata": {
            "tags": []
          },
          "execution_count": 33
        }
      ]
    },
    {
      "cell_type": "code",
      "metadata": {
        "colab": {
          "base_uri": "https://localhost:8080/",
          "height": 404
        },
        "id": "QTTmSGBdE_kn",
        "outputId": "9455b978-b493-4287-fe45-d166124caecd"
      },
      "source": [
        "#membuat array wcss\n",
        "wcss=[]\n",
        "#looping membuat kmeans lalu dimasukan kedalam array\n",
        "for n in range(1,8):\n",
        "    km = KMeans(n_clusters= n, init='k-means++', random_state=50)\n",
        "    km.fit(df)\n",
        "    wcss.append(km.inertia_)\n",
        "#visualisasi data\n",
        "plt.plot(wcss,color= 'navy')\n",
        "plt.title('Elbow Method')\n",
        "plt.xlabel('Iterasi / Jumlah Cluster')\n",
        "plt.ylabel('WCSS')\n",
        "plt.show()"
      ],
      "execution_count": null,
      "outputs": [
        {
          "output_type": "display_data",
          "data": {
            "image/png": "[encoded data removed]",
            "text/plain": [
              "<Figure size 600x400 with 1 Axes>"
            ]
          },
          "metadata": {
            "tags": [],
            "needs_background": "light"
          }
        }
      ]
    },
    {
      "cell_type": "markdown",
      "metadata": {
        "id": "rZgISAJs5WRF"
      },
      "source": [
        "# Eksperimen"
      ]
    },
    {
      "cell_type": "markdown",
      "metadata": {
        "id": "AT7KMyrfqNmo"
      },
      "source": [
        "Pada Tahap Eksperimen ini saya mengubah beberapa hal yaitu:\n",
        "\n",
        "\n",
        "\n",
        "Eksplorasi dan persiapan Data\n",
        "*   Menambah kolom tabel BersaljuBesok\n",
        "*   Menghilangkan option menghilangkan 2 angka dibelakang koma\n",
        "\n",
        "Pemodelan / Clustering\n",
        "*   nilai k dirubah menjadi 2\n",
        "\n",
        "\n",
        "\n"
      ]
    },
    {
      "cell_type": "markdown",
      "metadata": {
        "id": "N0lLnCENpvgD"
      },
      "source": [
        "## Eksplorasi dan Persiapan Data"
      ]
    },
    {
      "cell_type": "markdown",
      "metadata": {
        "id": "uytLcXlMpvgL"
      },
      "source": [
        "### Eksplorasi Data"
      ]
    },
    {
      "cell_type": "markdown",
      "metadata": {
        "id": "Dnquu4mupvgM"
      },
      "source": [
        "Untuk data Salju ini saya menggunakan 6 kolom yang saya anggap cukup penting untuk mengukur apakah besok bersalju atau tidak"
      ]
    },
    {
      "cell_type": "code",
      "metadata": {
        "colab": {
          "base_uri": "https://localhost:8080/",
          "height": 419
        },
        "id": "YYoi6yYmpvgM",
        "outputId": "1a52024e-2402-4a21-d1b8-284ff43f9842"
      },
      "source": [
        "df_salju2 = pd.read_csv('drive/My Drive/TubesMalin/salju_train.csv')\n",
        "df_salju2 = df_salju2[['SuhuMin','SuhuMax','Hujan','SinarMatahari','Awan3pm','Suhu3pm','BersaljuBesok']]\n",
        "df_salju2"
      ],
      "execution_count": null,
      "outputs": [
        {
          "output_type": "execute_result",
          "data": {
            "text/html": [
              "<div>\n",
              "<style scoped>\n",
              "    .dataframe tbody tr th:only-of-type {\n",
              "        vertical-align: middle;\n",
              "    }\n",
              "\n",
              "    .dataframe tbody tr th {\n",
              "        vertical-align: top;\n",
              "    }\n",
              "\n",
              "    .dataframe thead th {\n",
              "        text-align: right;\n",
              "    }\n",
              "</style>\n",
              "<table border=\"1\" class=\"dataframe\">\n",
              "  <thead>\n",
              "    <tr style=\"text-align: right;\">\n",
              "      <th></th>\n",
              "      <th>SuhuMin</th>\n",
              "      <th>SuhuMax</th>\n",
              "      <th>Hujan</th>\n",
              "      <th>SinarMatahari</th>\n",
              "      <th>Awan3pm</th>\n",
              "      <th>Suhu3pm</th>\n",
              "      <th>BersaljuBesok</th>\n",
              "    </tr>\n",
              "  </thead>\n",
              "  <tbody>\n",
              "    <tr>\n",
              "      <th>0</th>\n",
              "      <td>10.4</td>\n",
              "      <td>15.5</td>\n",
              "      <td>4.8</td>\n",
              "      <td>NaN</td>\n",
              "      <td>NaN</td>\n",
              "      <td>15.0</td>\n",
              "      <td>Tidak</td>\n",
              "    </tr>\n",
              "    <tr>\n",
              "      <th>1</th>\n",
              "      <td>9.0</td>\n",
              "      <td>17.0</td>\n",
              "      <td>8.0</td>\n",
              "      <td>7.4</td>\n",
              "      <td>5.0</td>\n",
              "      <td>15.5</td>\n",
              "      <td>Ya</td>\n",
              "    </tr>\n",
              "    <tr>\n",
              "      <th>2</th>\n",
              "      <td>18.2</td>\n",
              "      <td>32.0</td>\n",
              "      <td>0.0</td>\n",
              "      <td>NaN</td>\n",
              "      <td>NaN</td>\n",
              "      <td>29.6</td>\n",
              "      <td>Tidak</td>\n",
              "    </tr>\n",
              "    <tr>\n",
              "      <th>3</th>\n",
              "      <td>7.3</td>\n",
              "      <td>24.5</td>\n",
              "      <td>0.0</td>\n",
              "      <td>10.4</td>\n",
              "      <td>7.0</td>\n",
              "      <td>23.2</td>\n",
              "      <td>Tidak</td>\n",
              "    </tr>\n",
              "    <tr>\n",
              "      <th>4</th>\n",
              "      <td>5.9</td>\n",
              "      <td>20.3</td>\n",
              "      <td>0.0</td>\n",
              "      <td>12.6</td>\n",
              "      <td>6.0</td>\n",
              "      <td>18.1</td>\n",
              "      <td>Tidak</td>\n",
              "    </tr>\n",
              "    <tr>\n",
              "      <th>...</th>\n",
              "      <td>...</td>\n",
              "      <td>...</td>\n",
              "      <td>...</td>\n",
              "      <td>...</td>\n",
              "      <td>...</td>\n",
              "      <td>...</td>\n",
              "      <td>...</td>\n",
              "    </tr>\n",
              "    <tr>\n",
              "      <th>109090</th>\n",
              "      <td>20.1</td>\n",
              "      <td>23.7</td>\n",
              "      <td>0.0</td>\n",
              "      <td>8.9</td>\n",
              "      <td>6.0</td>\n",
              "      <td>22.1</td>\n",
              "      <td>Ya</td>\n",
              "    </tr>\n",
              "    <tr>\n",
              "      <th>109091</th>\n",
              "      <td>15.7</td>\n",
              "      <td>25.2</td>\n",
              "      <td>0.0</td>\n",
              "      <td>NaN</td>\n",
              "      <td>NaN</td>\n",
              "      <td>24.4</td>\n",
              "      <td>Ya</td>\n",
              "    </tr>\n",
              "    <tr>\n",
              "      <th>109092</th>\n",
              "      <td>7.5</td>\n",
              "      <td>20.4</td>\n",
              "      <td>1.6</td>\n",
              "      <td>NaN</td>\n",
              "      <td>NaN</td>\n",
              "      <td>19.8</td>\n",
              "      <td>Tidak</td>\n",
              "    </tr>\n",
              "    <tr>\n",
              "      <th>109093</th>\n",
              "      <td>10.8</td>\n",
              "      <td>29.8</td>\n",
              "      <td>0.0</td>\n",
              "      <td>11.2</td>\n",
              "      <td>1.0</td>\n",
              "      <td>29.2</td>\n",
              "      <td>Tidak</td>\n",
              "    </tr>\n",
              "    <tr>\n",
              "      <th>109094</th>\n",
              "      <td>12.3</td>\n",
              "      <td>27.4</td>\n",
              "      <td>9.0</td>\n",
              "      <td>NaN</td>\n",
              "      <td>NaN</td>\n",
              "      <td>23.3</td>\n",
              "      <td>Tidak</td>\n",
              "    </tr>\n",
              "  </tbody>\n",
              "</table>\n",
              "<p>109095 rows × 7 columns</p>\n",
              "</div>"
            ],
            "text/plain": [
              "        SuhuMin  SuhuMax  Hujan  SinarMatahari  Awan3pm  Suhu3pm BersaljuBesok\n",
              "0          10.4     15.5    4.8            NaN      NaN     15.0         Tidak\n",
              "1           9.0     17.0    8.0            7.4      5.0     15.5            Ya\n",
              "2          18.2     32.0    0.0            NaN      NaN     29.6         Tidak\n",
              "3           7.3     24.5    0.0           10.4      7.0     23.2         Tidak\n",
              "4           5.9     20.3    0.0           12.6      6.0     18.1         Tidak\n",
              "...         ...      ...    ...            ...      ...      ...           ...\n",
              "109090     20.1     23.7    0.0            8.9      6.0     22.1            Ya\n",
              "109091     15.7     25.2    0.0            NaN      NaN     24.4            Ya\n",
              "109092      7.5     20.4    1.6            NaN      NaN     19.8         Tidak\n",
              "109093     10.8     29.8    0.0           11.2      1.0     29.2         Tidak\n",
              "109094     12.3     27.4    9.0            NaN      NaN     23.3         Tidak\n",
              "\n",
              "[109095 rows x 7 columns]"
            ]
          },
          "metadata": {
            "tags": []
          },
          "execution_count": 35
        }
      ]
    },
    {
      "cell_type": "markdown",
      "metadata": {
        "id": "8mWN98K_pvgO"
      },
      "source": [
        "### Persiapan/Pre-Processing Data"
      ]
    },
    {
      "cell_type": "markdown",
      "metadata": {
        "id": "5kkxg9pKpvgO"
      },
      "source": [
        "**Missing Value**\n",
        "> Mengisi Missing Value dari data yang ada dengan mean dan median, mean digunakan ketika skewness dari data tidak terlalu besar atau ada di range -1 hingga 1, sedangkan median digunakan ketika skewness besar\n",
        "\n"
      ]
    },
    {
      "cell_type": "code",
      "metadata": {
        "id": "PZHyys2BUbvo"
      },
      "source": [
        "#membuat data bersaljubesok menjadi numerik dengan ketentuan tidak :0 dan ya:1\n",
        "df_salju2['BersaljuBesok'] = df_salju2['BersaljuBesok'].replace({'Tidak': 0, 'Ya': 1})"
      ],
      "execution_count": null,
      "outputs": []
    },
    {
      "cell_type": "code",
      "metadata": {
        "colab": {
          "base_uri": "https://localhost:8080/"
        },
        "id": "u1VTJh7JpvgO",
        "outputId": "b29ec361-e12d-4904-ace5-72c9cb3b7dc4"
      },
      "source": [
        "df_salju2.isnull().sum()"
      ],
      "execution_count": null,
      "outputs": [
        {
          "output_type": "execute_result",
          "data": {
            "text/plain": [
              "SuhuMin           1122\n",
              "SuhuMax            929\n",
              "Hujan             2431\n",
              "SinarMatahari    52379\n",
              "Awan3pm          44471\n",
              "Suhu3pm           2698\n",
              "BersaljuBesok     2431\n",
              "dtype: int64"
            ]
          },
          "metadata": {
            "tags": []
          },
          "execution_count": 37
        }
      ]
    },
    {
      "cell_type": "code",
      "metadata": {
        "colab": {
          "base_uri": "https://localhost:8080/"
        },
        "id": "57oqA8_HpvgP",
        "outputId": "09093866-a76f-46b8-c05d-401899141d7e"
      },
      "source": [
        "df_salju2.skew(axis=0, skipna=True)"
      ],
      "execution_count": null,
      "outputs": [
        {
          "output_type": "execute_result",
          "data": {
            "text/plain": [
              "SuhuMin           0.018027\n",
              "SuhuMax           0.220794\n",
              "Hujan            10.059372\n",
              "SinarMatahari    -0.493987\n",
              "Awan3pm          -0.227323\n",
              "Suhu3pm           0.238056\n",
              "BersaljuBesok     1.319469\n",
              "dtype: float64"
            ]
          },
          "metadata": {
            "tags": []
          },
          "execution_count": 38
        }
      ]
    },
    {
      "cell_type": "code",
      "metadata": {
        "colab": {
          "base_uri": "https://localhost:8080/"
        },
        "id": "McwzFx3tpvgP",
        "outputId": "f71b076a-64f1-4ba5-bb11-798a55502ed9"
      },
      "source": [
        "#mengganti nilai null dengan mean dan median\n",
        "df_salju2['SuhuMin'].fillna(df_salju2['SuhuMin'].mean(),inplace=True)\n",
        "df_salju2['SuhuMax'].fillna(df_salju2['SuhuMax'].mean(),inplace=True)\n",
        "df_salju2['SinarMatahari'].fillna(df_salju2['SinarMatahari'].mean(),inplace=True)\n",
        "df_salju2['Awan3pm'].fillna(df_salju2['Awan3pm'].mean(),inplace=True)\n",
        "df_salju2['Suhu3pm'].fillna(df_salju2['Suhu3pm'].mean(),inplace=True)\n",
        "\n",
        "df_salju2['BersaljuBesok'].fillna(df_salju2['BersaljuBesok'].median(),inplace=True)\n",
        "df_salju2['Hujan'].fillna(df_salju2['Hujan'].median(),inplace=True)\n",
        "\n",
        "#mengecek kembali nilai null data \n",
        "df_salju2.isnull().sum()"
      ],
      "execution_count": null,
      "outputs": [
        {
          "output_type": "execute_result",
          "data": {
            "text/plain": [
              "SuhuMin          0\n",
              "SuhuMax          0\n",
              "Hujan            0\n",
              "SinarMatahari    0\n",
              "Awan3pm          0\n",
              "Suhu3pm          0\n",
              "BersaljuBesok    0\n",
              "dtype: int64"
            ]
          },
          "metadata": {
            "tags": []
          },
          "execution_count": 39
        }
      ]
    },
    {
      "cell_type": "code",
      "metadata": {
        "colab": {
          "base_uri": "https://localhost:8080/",
          "height": 419
        },
        "id": "UgwYly9IpvgQ",
        "outputId": "5a2c6cfa-e035-43e5-f9d7-4ef1c6b194a4"
      },
      "source": [
        "df_salju2"
      ],
      "execution_count": null,
      "outputs": [
        {
          "output_type": "execute_result",
          "data": {
            "text/html": [
              "<div>\n",
              "<style scoped>\n",
              "    .dataframe tbody tr th:only-of-type {\n",
              "        vertical-align: middle;\n",
              "    }\n",
              "\n",
              "    .dataframe tbody tr th {\n",
              "        vertical-align: top;\n",
              "    }\n",
              "\n",
              "    .dataframe thead th {\n",
              "        text-align: right;\n",
              "    }\n",
              "</style>\n",
              "<table border=\"1\" class=\"dataframe\">\n",
              "  <thead>\n",
              "    <tr style=\"text-align: right;\">\n",
              "      <th></th>\n",
              "      <th>SuhuMin</th>\n",
              "      <th>SuhuMax</th>\n",
              "      <th>Hujan</th>\n",
              "      <th>SinarMatahari</th>\n",
              "      <th>Awan3pm</th>\n",
              "      <th>Suhu3pm</th>\n",
              "      <th>BersaljuBesok</th>\n",
              "    </tr>\n",
              "  </thead>\n",
              "  <tbody>\n",
              "    <tr>\n",
              "      <th>0</th>\n",
              "      <td>10.4</td>\n",
              "      <td>15.5</td>\n",
              "      <td>4.8</td>\n",
              "      <td>7.599527</td>\n",
              "      <td>4.51614</td>\n",
              "      <td>15.0</td>\n",
              "      <td>0.0</td>\n",
              "    </tr>\n",
              "    <tr>\n",
              "      <th>1</th>\n",
              "      <td>9.0</td>\n",
              "      <td>17.0</td>\n",
              "      <td>8.0</td>\n",
              "      <td>7.400000</td>\n",
              "      <td>5.00000</td>\n",
              "      <td>15.5</td>\n",
              "      <td>1.0</td>\n",
              "    </tr>\n",
              "    <tr>\n",
              "      <th>2</th>\n",
              "      <td>18.2</td>\n",
              "      <td>32.0</td>\n",
              "      <td>0.0</td>\n",
              "      <td>7.599527</td>\n",
              "      <td>4.51614</td>\n",
              "      <td>29.6</td>\n",
              "      <td>0.0</td>\n",
              "    </tr>\n",
              "    <tr>\n",
              "      <th>3</th>\n",
              "      <td>7.3</td>\n",
              "      <td>24.5</td>\n",
              "      <td>0.0</td>\n",
              "      <td>10.400000</td>\n",
              "      <td>7.00000</td>\n",
              "      <td>23.2</td>\n",
              "      <td>0.0</td>\n",
              "    </tr>\n",
              "    <tr>\n",
              "      <th>4</th>\n",
              "      <td>5.9</td>\n",
              "      <td>20.3</td>\n",
              "      <td>0.0</td>\n",
              "      <td>12.600000</td>\n",
              "      <td>6.00000</td>\n",
              "      <td>18.1</td>\n",
              "      <td>0.0</td>\n",
              "    </tr>\n",
              "    <tr>\n",
              "      <th>...</th>\n",
              "      <td>...</td>\n",
              "      <td>...</td>\n",
              "      <td>...</td>\n",
              "      <td>...</td>\n",
              "      <td>...</td>\n",
              "      <td>...</td>\n",
              "      <td>...</td>\n",
              "    </tr>\n",
              "    <tr>\n",
              "      <th>109090</th>\n",
              "      <td>20.1</td>\n",
              "      <td>23.7</td>\n",
              "      <td>0.0</td>\n",
              "      <td>8.900000</td>\n",
              "      <td>6.00000</td>\n",
              "      <td>22.1</td>\n",
              "      <td>1.0</td>\n",
              "    </tr>\n",
              "    <tr>\n",
              "      <th>109091</th>\n",
              "      <td>15.7</td>\n",
              "      <td>25.2</td>\n",
              "      <td>0.0</td>\n",
              "      <td>7.599527</td>\n",
              "      <td>4.51614</td>\n",
              "      <td>24.4</td>\n",
              "      <td>1.0</td>\n",
              "    </tr>\n",
              "    <tr>\n",
              "      <th>109092</th>\n",
              "      <td>7.5</td>\n",
              "      <td>20.4</td>\n",
              "      <td>1.6</td>\n",
              "      <td>7.599527</td>\n",
              "      <td>4.51614</td>\n",
              "      <td>19.8</td>\n",
              "      <td>0.0</td>\n",
              "    </tr>\n",
              "    <tr>\n",
              "      <th>109093</th>\n",
              "      <td>10.8</td>\n",
              "      <td>29.8</td>\n",
              "      <td>0.0</td>\n",
              "      <td>11.200000</td>\n",
              "      <td>1.00000</td>\n",
              "      <td>29.2</td>\n",
              "      <td>0.0</td>\n",
              "    </tr>\n",
              "    <tr>\n",
              "      <th>109094</th>\n",
              "      <td>12.3</td>\n",
              "      <td>27.4</td>\n",
              "      <td>9.0</td>\n",
              "      <td>7.599527</td>\n",
              "      <td>4.51614</td>\n",
              "      <td>23.3</td>\n",
              "      <td>0.0</td>\n",
              "    </tr>\n",
              "  </tbody>\n",
              "</table>\n",
              "<p>109095 rows × 7 columns</p>\n",
              "</div>"
            ],
            "text/plain": [
              "        SuhuMin  SuhuMax  Hujan  SinarMatahari  Awan3pm  Suhu3pm  BersaljuBesok\n",
              "0          10.4     15.5    4.8       7.599527  4.51614     15.0            0.0\n",
              "1           9.0     17.0    8.0       7.400000  5.00000     15.5            1.0\n",
              "2          18.2     32.0    0.0       7.599527  4.51614     29.6            0.0\n",
              "3           7.3     24.5    0.0      10.400000  7.00000     23.2            0.0\n",
              "4           5.9     20.3    0.0      12.600000  6.00000     18.1            0.0\n",
              "...         ...      ...    ...            ...      ...      ...            ...\n",
              "109090     20.1     23.7    0.0       8.900000  6.00000     22.1            1.0\n",
              "109091     15.7     25.2    0.0       7.599527  4.51614     24.4            1.0\n",
              "109092      7.5     20.4    1.6       7.599527  4.51614     19.8            0.0\n",
              "109093     10.8     29.8    0.0      11.200000  1.00000     29.2            0.0\n",
              "109094     12.3     27.4    9.0       7.599527  4.51614     23.3            0.0\n",
              "\n",
              "[109095 rows x 7 columns]"
            ]
          },
          "metadata": {
            "tags": []
          },
          "execution_count": 40
        }
      ]
    },
    {
      "cell_type": "markdown",
      "metadata": {
        "id": "JwyktouYpvgR"
      },
      "source": [
        "**Outlier**\n",
        "> Menghapus Outliers atau data yang tidak stabil pada seluruh kolom yang ada, ini bertujuan untuk membuat data lebih bersih dan stabil"
      ]
    },
    {
      "cell_type": "code",
      "metadata": {
        "colab": {
          "base_uri": "https://localhost:8080/",
          "height": 343
        },
        "id": "aKfiuJbApvgR",
        "outputId": "eba5fb3f-a0db-4f21-b6b0-1aebef542b3c"
      },
      "source": [
        "#mengecek outliers menggunakan boxplot dari seaborn\n",
        "f, a = plt.subplots(1, 6)\n",
        "mp.rcParams['figure.dpi'] = 100\n",
        "\n",
        "sns.boxplot(y=df_salju2[\"SuhuMin\"], ax=a[0])\n",
        "sns.boxplot(y=df_salju2[\"SuhuMax\"], ax=a[1])\n",
        "sns.boxplot(y=df_salju2[\"Hujan\"], ax=a[2])\n",
        "sns.boxplot(y=df_salju2[\"SinarMatahari\"], ax=a[3])\n",
        "sns.boxplot(y=df_salju2[\"Awan3pm\"], ax=a[4])\n",
        "sns.boxplot(y=df_salju2[\"Suhu3pm\"], ax=a[5])\n",
        "\n",
        "plt.subplots_adjust(wspace=10)"
      ],
      "execution_count": null,
      "outputs": [
        {
          "output_type": "display_data",
          "data": {
            "image/png": "[encoded data removed]",
            "text/plain": [
              "<Figure size 600x400 with 6 Axes>"
            ]
          },
          "metadata": {
            "tags": [],
            "needs_background": "light"
          }
        }
      ]
    },
    {
      "cell_type": "code",
      "metadata": {
        "id": "3quiMMTcpvgS"
      },
      "source": [
        "#fungsi untuk menghapus outlier\n",
        "def out(data, kolom):\n",
        "    atas = data[kolom].quantile(.75)\n",
        "    bawah = data[kolom].quantile(.25)\n",
        "    kuartil = atas-bawah\n",
        "\n",
        "    batasbawah = bawah - 1.5*kuartil\n",
        "    batasatas = atas + 1.5*kuartil\n",
        "    \n",
        "    res = data.loc[(data[kolom] > batasbawah) & (data[kolom] < batasatas)]\n",
        "\n",
        "    return res"
      ],
      "execution_count": null,
      "outputs": []
    },
    {
      "cell_type": "code",
      "metadata": {
        "id": "try-pFvwpvgS"
      },
      "source": [
        "#memanggil fungsi out dan dimasukan kembali kedalam dataframe\n",
        "df_salju2 = out(df_salju2,'Hujan')\n",
        "df_salju2 = out(df_salju2,'SinarMatahari')\n",
        "df_salju2 = out(df_salju2,'SuhuMax')\n",
        "df_salju2 = out(df_salju2,'Suhu3pm')\n",
        "df_salju2 = out(df_salju2,'SuhuMin')\n",
        "df_salju2 = out(df_salju2,'Awan3pm')"
      ],
      "execution_count": null,
      "outputs": []
    },
    {
      "cell_type": "code",
      "metadata": {
        "colab": {
          "base_uri": "https://localhost:8080/",
          "height": 349
        },
        "id": "JC_w97JdpvgS",
        "outputId": "fd2261e1-9731-4483-8513-c3369fd4db84"
      },
      "source": [
        "#mengecek kembali outliers menggunakan boxplot dari seaborn\n",
        "f, a = plt.subplots(1, 6)\n",
        "mp.rcParams['figure.dpi'] = 100\n",
        "\n",
        "sns.boxplot(y=df_salju2[\"SuhuMin\"], ax=a[0])\n",
        "sns.boxplot(y=df_salju2[\"SuhuMax\"], ax=a[1])\n",
        "sns.boxplot(y=df_salju2[\"Hujan\"], ax=a[2])\n",
        "sns.boxplot(y=df_salju2[\"SinarMatahari\"], ax=a[3])\n",
        "sns.boxplot(y=df_salju2[\"Awan3pm\"], ax=a[4])\n",
        "sns.boxplot(y=df_salju2[\"Suhu3pm\"], ax=a[5])\n",
        "\n",
        "plt.subplots_adjust(wspace=10)"
      ],
      "execution_count": null,
      "outputs": [
        {
          "output_type": "display_data",
          "data": {
            "image/png": "[encoded data removed]",
            "text/plain": [
              "<Figure size 600x400 with 6 Axes>"
            ]
          },
          "metadata": {
            "tags": [],
            "needs_background": "light"
          }
        }
      ]
    },
    {
      "cell_type": "code",
      "metadata": {
        "colab": {
          "base_uri": "https://localhost:8080/",
          "height": 419
        },
        "id": "m8VPHcIrpvgT",
        "outputId": "afd24f00-5a41-43a3-a95b-97fc9fc3a274"
      },
      "source": [
        "df_salju2"
      ],
      "execution_count": null,
      "outputs": [
        {
          "output_type": "execute_result",
          "data": {
            "text/html": [
              "<div>\n",
              "<style scoped>\n",
              "    .dataframe tbody tr th:only-of-type {\n",
              "        vertical-align: middle;\n",
              "    }\n",
              "\n",
              "    .dataframe tbody tr th {\n",
              "        vertical-align: top;\n",
              "    }\n",
              "\n",
              "    .dataframe thead th {\n",
              "        text-align: right;\n",
              "    }\n",
              "</style>\n",
              "<table border=\"1\" class=\"dataframe\">\n",
              "  <thead>\n",
              "    <tr style=\"text-align: right;\">\n",
              "      <th></th>\n",
              "      <th>SuhuMin</th>\n",
              "      <th>SuhuMax</th>\n",
              "      <th>Hujan</th>\n",
              "      <th>SinarMatahari</th>\n",
              "      <th>Awan3pm</th>\n",
              "      <th>Suhu3pm</th>\n",
              "      <th>BersaljuBesok</th>\n",
              "    </tr>\n",
              "  </thead>\n",
              "  <tbody>\n",
              "    <tr>\n",
              "      <th>2</th>\n",
              "      <td>18.2</td>\n",
              "      <td>32.0</td>\n",
              "      <td>0.0</td>\n",
              "      <td>7.599527</td>\n",
              "      <td>4.51614</td>\n",
              "      <td>29.6</td>\n",
              "      <td>0.0</td>\n",
              "    </tr>\n",
              "    <tr>\n",
              "      <th>6</th>\n",
              "      <td>7.7</td>\n",
              "      <td>18.7</td>\n",
              "      <td>0.2</td>\n",
              "      <td>9.700000</td>\n",
              "      <td>1.00000</td>\n",
              "      <td>18.3</td>\n",
              "      <td>0.0</td>\n",
              "    </tr>\n",
              "    <tr>\n",
              "      <th>14</th>\n",
              "      <td>6.5</td>\n",
              "      <td>17.0</td>\n",
              "      <td>0.0</td>\n",
              "      <td>7.599527</td>\n",
              "      <td>4.51614</td>\n",
              "      <td>16.1</td>\n",
              "      <td>0.0</td>\n",
              "    </tr>\n",
              "    <tr>\n",
              "      <th>15</th>\n",
              "      <td>9.3</td>\n",
              "      <td>19.3</td>\n",
              "      <td>0.0</td>\n",
              "      <td>7.000000</td>\n",
              "      <td>5.00000</td>\n",
              "      <td>18.4</td>\n",
              "      <td>0.0</td>\n",
              "    </tr>\n",
              "    <tr>\n",
              "      <th>16</th>\n",
              "      <td>10.7</td>\n",
              "      <td>24.1</td>\n",
              "      <td>0.2</td>\n",
              "      <td>7.599527</td>\n",
              "      <td>4.51614</td>\n",
              "      <td>23.6</td>\n",
              "      <td>0.0</td>\n",
              "    </tr>\n",
              "    <tr>\n",
              "      <th>...</th>\n",
              "      <td>...</td>\n",
              "      <td>...</td>\n",
              "      <td>...</td>\n",
              "      <td>...</td>\n",
              "      <td>...</td>\n",
              "      <td>...</td>\n",
              "      <td>...</td>\n",
              "    </tr>\n",
              "    <tr>\n",
              "      <th>109087</th>\n",
              "      <td>5.1</td>\n",
              "      <td>23.4</td>\n",
              "      <td>0.0</td>\n",
              "      <td>7.599527</td>\n",
              "      <td>1.00000</td>\n",
              "      <td>22.5</td>\n",
              "      <td>0.0</td>\n",
              "    </tr>\n",
              "    <tr>\n",
              "      <th>109089</th>\n",
              "      <td>18.7</td>\n",
              "      <td>23.9</td>\n",
              "      <td>0.0</td>\n",
              "      <td>7.599527</td>\n",
              "      <td>1.00000</td>\n",
              "      <td>22.4</td>\n",
              "      <td>0.0</td>\n",
              "    </tr>\n",
              "    <tr>\n",
              "      <th>109090</th>\n",
              "      <td>20.1</td>\n",
              "      <td>23.7</td>\n",
              "      <td>0.0</td>\n",
              "      <td>8.900000</td>\n",
              "      <td>6.00000</td>\n",
              "      <td>22.1</td>\n",
              "      <td>1.0</td>\n",
              "    </tr>\n",
              "    <tr>\n",
              "      <th>109091</th>\n",
              "      <td>15.7</td>\n",
              "      <td>25.2</td>\n",
              "      <td>0.0</td>\n",
              "      <td>7.599527</td>\n",
              "      <td>4.51614</td>\n",
              "      <td>24.4</td>\n",
              "      <td>1.0</td>\n",
              "    </tr>\n",
              "    <tr>\n",
              "      <th>109093</th>\n",
              "      <td>10.8</td>\n",
              "      <td>29.8</td>\n",
              "      <td>0.0</td>\n",
              "      <td>11.200000</td>\n",
              "      <td>1.00000</td>\n",
              "      <td>29.2</td>\n",
              "      <td>0.0</td>\n",
              "    </tr>\n",
              "  </tbody>\n",
              "</table>\n",
              "<p>59059 rows × 7 columns</p>\n",
              "</div>"
            ],
            "text/plain": [
              "        SuhuMin  SuhuMax  Hujan  SinarMatahari  Awan3pm  Suhu3pm  BersaljuBesok\n",
              "2          18.2     32.0    0.0       7.599527  4.51614     29.6            0.0\n",
              "6           7.7     18.7    0.2       9.700000  1.00000     18.3            0.0\n",
              "14          6.5     17.0    0.0       7.599527  4.51614     16.1            0.0\n",
              "15          9.3     19.3    0.0       7.000000  5.00000     18.4            0.0\n",
              "16         10.7     24.1    0.2       7.599527  4.51614     23.6            0.0\n",
              "...         ...      ...    ...            ...      ...      ...            ...\n",
              "109087      5.1     23.4    0.0       7.599527  1.00000     22.5            0.0\n",
              "109089     18.7     23.9    0.0       7.599527  1.00000     22.4            0.0\n",
              "109090     20.1     23.7    0.0       8.900000  6.00000     22.1            1.0\n",
              "109091     15.7     25.2    0.0       7.599527  4.51614     24.4            1.0\n",
              "109093     10.8     29.8    0.0      11.200000  1.00000     29.2            0.0\n",
              "\n",
              "[59059 rows x 7 columns]"
            ]
          },
          "metadata": {
            "tags": []
          },
          "execution_count": 45
        }
      ]
    },
    {
      "cell_type": "markdown",
      "metadata": {
        "id": "GdBFPHAFpvgT"
      },
      "source": [
        "**Scaling**\n",
        "> Scaling dengan menggunakan StandardScaler, ini dipilih untuk membuat persebaran data setiap kolomnya tidak terlalu jauh dan angkanya masih bervariasi"
      ]
    },
    {
      "cell_type": "code",
      "metadata": {
        "id": "pjtQPkDdpvgT"
      },
      "source": [
        "#scale = StandardScaler()\n",
        "#scale.fit(df_salju2)\n",
        "temp2 = MinMaxScaler().fit_transform(df_salju2)\n",
        "df_br2 = pd.DataFrame(temp2, index=df_salju2.index, columns=df_salju2.columns)"
      ],
      "execution_count": null,
      "outputs": []
    },
    {
      "cell_type": "code",
      "metadata": {
        "colab": {
          "base_uri": "https://localhost:8080/",
          "height": 419
        },
        "id": "azBnX_OtpvgU",
        "outputId": "20320d13-4c8d-4d80-a361-e842e7e8d76b"
      },
      "source": [
        "df_br2"
      ],
      "execution_count": null,
      "outputs": [
        {
          "output_type": "execute_result",
          "data": {
            "text/html": [
              "<div>\n",
              "<style scoped>\n",
              "    .dataframe tbody tr th:only-of-type {\n",
              "        vertical-align: middle;\n",
              "    }\n",
              "\n",
              "    .dataframe tbody tr th {\n",
              "        vertical-align: top;\n",
              "    }\n",
              "\n",
              "    .dataframe thead th {\n",
              "        text-align: right;\n",
              "    }\n",
              "</style>\n",
              "<table border=\"1\" class=\"dataframe\">\n",
              "  <thead>\n",
              "    <tr style=\"text-align: right;\">\n",
              "      <th></th>\n",
              "      <th>SuhuMin</th>\n",
              "      <th>SuhuMax</th>\n",
              "      <th>Hujan</th>\n",
              "      <th>SinarMatahari</th>\n",
              "      <th>Awan3pm</th>\n",
              "      <th>Suhu3pm</th>\n",
              "      <th>BersaljuBesok</th>\n",
              "    </tr>\n",
              "  </thead>\n",
              "  <tbody>\n",
              "    <tr>\n",
              "      <th>2</th>\n",
              "      <td>0.677419</td>\n",
              "      <td>0.712435</td>\n",
              "      <td>0.000000</td>\n",
              "      <td>0.373064</td>\n",
              "      <td>0.703228</td>\n",
              "      <td>0.707042</td>\n",
              "      <td>0.0</td>\n",
              "    </tr>\n",
              "    <tr>\n",
              "      <th>6</th>\n",
              "      <td>0.395161</td>\n",
              "      <td>0.367876</td>\n",
              "      <td>0.142857</td>\n",
              "      <td>0.686567</td>\n",
              "      <td>0.000000</td>\n",
              "      <td>0.388732</td>\n",
              "      <td>0.0</td>\n",
              "    </tr>\n",
              "    <tr>\n",
              "      <th>14</th>\n",
              "      <td>0.362903</td>\n",
              "      <td>0.323834</td>\n",
              "      <td>0.000000</td>\n",
              "      <td>0.373064</td>\n",
              "      <td>0.703228</td>\n",
              "      <td>0.326761</td>\n",
              "      <td>0.0</td>\n",
              "    </tr>\n",
              "    <tr>\n",
              "      <th>15</th>\n",
              "      <td>0.438172</td>\n",
              "      <td>0.383420</td>\n",
              "      <td>0.000000</td>\n",
              "      <td>0.283582</td>\n",
              "      <td>0.800000</td>\n",
              "      <td>0.391549</td>\n",
              "      <td>0.0</td>\n",
              "    </tr>\n",
              "    <tr>\n",
              "      <th>16</th>\n",
              "      <td>0.475806</td>\n",
              "      <td>0.507772</td>\n",
              "      <td>0.142857</td>\n",
              "      <td>0.373064</td>\n",
              "      <td>0.703228</td>\n",
              "      <td>0.538028</td>\n",
              "      <td>0.0</td>\n",
              "    </tr>\n",
              "    <tr>\n",
              "      <th>...</th>\n",
              "      <td>...</td>\n",
              "      <td>...</td>\n",
              "      <td>...</td>\n",
              "      <td>...</td>\n",
              "      <td>...</td>\n",
              "      <td>...</td>\n",
              "      <td>...</td>\n",
              "    </tr>\n",
              "    <tr>\n",
              "      <th>109087</th>\n",
              "      <td>0.325269</td>\n",
              "      <td>0.489637</td>\n",
              "      <td>0.000000</td>\n",
              "      <td>0.373064</td>\n",
              "      <td>0.000000</td>\n",
              "      <td>0.507042</td>\n",
              "      <td>0.0</td>\n",
              "    </tr>\n",
              "    <tr>\n",
              "      <th>109089</th>\n",
              "      <td>0.690860</td>\n",
              "      <td>0.502591</td>\n",
              "      <td>0.000000</td>\n",
              "      <td>0.373064</td>\n",
              "      <td>0.000000</td>\n",
              "      <td>0.504225</td>\n",
              "      <td>0.0</td>\n",
              "    </tr>\n",
              "    <tr>\n",
              "      <th>109090</th>\n",
              "      <td>0.728495</td>\n",
              "      <td>0.497409</td>\n",
              "      <td>0.000000</td>\n",
              "      <td>0.567164</td>\n",
              "      <td>1.000000</td>\n",
              "      <td>0.495775</td>\n",
              "      <td>1.0</td>\n",
              "    </tr>\n",
              "    <tr>\n",
              "      <th>109091</th>\n",
              "      <td>0.610215</td>\n",
              "      <td>0.536269</td>\n",
              "      <td>0.000000</td>\n",
              "      <td>0.373064</td>\n",
              "      <td>0.703228</td>\n",
              "      <td>0.560563</td>\n",
              "      <td>1.0</td>\n",
              "    </tr>\n",
              "    <tr>\n",
              "      <th>109093</th>\n",
              "      <td>0.478495</td>\n",
              "      <td>0.655440</td>\n",
              "      <td>0.000000</td>\n",
              "      <td>0.910448</td>\n",
              "      <td>0.000000</td>\n",
              "      <td>0.695775</td>\n",
              "      <td>0.0</td>\n",
              "    </tr>\n",
              "  </tbody>\n",
              "</table>\n",
              "<p>59059 rows × 7 columns</p>\n",
              "</div>"
            ],
            "text/plain": [
              "         SuhuMin   SuhuMax     Hujan  ...   Awan3pm   Suhu3pm  BersaljuBesok\n",
              "2       0.677419  0.712435  0.000000  ...  0.703228  0.707042            0.0\n",
              "6       0.395161  0.367876  0.142857  ...  0.000000  0.388732            0.0\n",
              "14      0.362903  0.323834  0.000000  ...  0.703228  0.326761            0.0\n",
              "15      0.438172  0.383420  0.000000  ...  0.800000  0.391549            0.0\n",
              "16      0.475806  0.507772  0.142857  ...  0.703228  0.538028            0.0\n",
              "...          ...       ...       ...  ...       ...       ...            ...\n",
              "109087  0.325269  0.489637  0.000000  ...  0.000000  0.507042            0.0\n",
              "109089  0.690860  0.502591  0.000000  ...  0.000000  0.504225            0.0\n",
              "109090  0.728495  0.497409  0.000000  ...  1.000000  0.495775            1.0\n",
              "109091  0.610215  0.536269  0.000000  ...  0.703228  0.560563            1.0\n",
              "109093  0.478495  0.655440  0.000000  ...  0.000000  0.695775            0.0\n",
              "\n",
              "[59059 rows x 7 columns]"
            ]
          },
          "metadata": {
            "tags": []
          },
          "execution_count": 47
        }
      ]
    },
    {
      "cell_type": "markdown",
      "metadata": {
        "id": "K8fMO8w_pvgU"
      },
      "source": [
        "**Feature Selection**\n",
        "> Melakukan Feature Selection dengan menggunakan PCA, ini berfungsi untuk mereduksi data menjadi 2 kolom untuk selanjutnya digunakan dalam clustering"
      ]
    },
    {
      "cell_type": "code",
      "metadata": {
        "colab": {
          "base_uri": "https://localhost:8080/",
          "height": 419
        },
        "id": "-S-FjcWzpvgV",
        "outputId": "44261c8b-6e09-4963-b046-8072ee34e7ea"
      },
      "source": [
        "#memanggil PCA dan dimasukan kedalam dataframe agar data dapat terlihat jelas\n",
        "pca = PCA(n_components=2)\n",
        "df2 = pca.fit_transform(df_br2)\n",
        "df2 = pd.DataFrame(data = df2, columns = ['x', 'y'])\n",
        "df2"
      ],
      "execution_count": null,
      "outputs": [
        {
          "output_type": "execute_result",
          "data": {
            "text/html": [
              "<div>\n",
              "<style scoped>\n",
              "    .dataframe tbody tr th:only-of-type {\n",
              "        vertical-align: middle;\n",
              "    }\n",
              "\n",
              "    .dataframe tbody tr th {\n",
              "        vertical-align: top;\n",
              "    }\n",
              "\n",
              "    .dataframe thead th {\n",
              "        text-align: right;\n",
              "    }\n",
              "</style>\n",
              "<table border=\"1\" class=\"dataframe\">\n",
              "  <thead>\n",
              "    <tr style=\"text-align: right;\">\n",
              "      <th></th>\n",
              "      <th>x</th>\n",
              "      <th>y</th>\n",
              "    </tr>\n",
              "  </thead>\n",
              "  <tbody>\n",
              "    <tr>\n",
              "      <th>0</th>\n",
              "      <td>-0.092497</td>\n",
              "      <td>-0.001172</td>\n",
              "    </tr>\n",
              "    <tr>\n",
              "      <th>1</th>\n",
              "      <td>-0.360506</td>\n",
              "      <td>0.227455</td>\n",
              "    </tr>\n",
              "    <tr>\n",
              "      <th>2</th>\n",
              "      <td>0.043251</td>\n",
              "      <td>-0.314756</td>\n",
              "    </tr>\n",
              "    <tr>\n",
              "      <th>3</th>\n",
              "      <td>0.086843</td>\n",
              "      <td>-0.340909</td>\n",
              "    </tr>\n",
              "    <tr>\n",
              "      <th>4</th>\n",
              "      <td>-0.008464</td>\n",
              "      <td>-0.172889</td>\n",
              "    </tr>\n",
              "    <tr>\n",
              "      <th>...</th>\n",
              "      <td>...</td>\n",
              "      <td>...</td>\n",
              "    </tr>\n",
              "    <tr>\n",
              "      <th>59054</th>\n",
              "      <td>-0.325390</td>\n",
              "      <td>0.184828</td>\n",
              "    </tr>\n",
              "    <tr>\n",
              "      <th>59055</th>\n",
              "      <td>-0.350706</td>\n",
              "      <td>0.294870</td>\n",
              "    </tr>\n",
              "    <tr>\n",
              "      <th>59056</th>\n",
              "      <td>0.867771</td>\n",
              "      <td>0.334888</td>\n",
              "    </tr>\n",
              "    <tr>\n",
              "      <th>59057</th>\n",
              "      <td>0.775620</td>\n",
              "      <td>0.443886</td>\n",
              "    </tr>\n",
              "    <tr>\n",
              "      <th>59058</th>\n",
              "      <td>-0.528865</td>\n",
              "      <td>0.497240</td>\n",
              "    </tr>\n",
              "  </tbody>\n",
              "</table>\n",
              "<p>59059 rows × 2 columns</p>\n",
              "</div>"
            ],
            "text/plain": [
              "              x         y\n",
              "0     -0.092497 -0.001172\n",
              "1     -0.360506  0.227455\n",
              "2      0.043251 -0.314756\n",
              "3      0.086843 -0.340909\n",
              "4     -0.008464 -0.172889\n",
              "...         ...       ...\n",
              "59054 -0.325390  0.184828\n",
              "59055 -0.350706  0.294870\n",
              "59056  0.867771  0.334888\n",
              "59057  0.775620  0.443886\n",
              "59058 -0.528865  0.497240\n",
              "\n",
              "[59059 rows x 2 columns]"
            ]
          },
          "metadata": {
            "tags": []
          },
          "execution_count": 48
        }
      ]
    },
    {
      "cell_type": "code",
      "metadata": {
        "colab": {
          "base_uri": "https://localhost:8080/"
        },
        "id": "pXFW9ptIpvgY",
        "outputId": "5e083d8e-b82b-4aa4-c658-c662620f4b23"
      },
      "source": [
        "#memasukan dataframe kedalam array untuk proses clustering\n",
        "arr2 = MinMaxScaler(feature_range=(0,10)).fit_transform(df2)\n",
        "print(arr2)"
      ],
      "execution_count": null,
      "outputs": [
        {
          "output_type": "stream",
          "text": [
            "[[2.94177964 3.45582468]\n",
            " [1.49407222 4.54445413]\n",
            " [3.67505726 1.96266157]\n",
            " ...\n",
            " [8.12888667 5.05600514]\n",
            " [7.63110799 5.57500886]\n",
            " [0.58464294 5.82906156]]\n"
          ],
          "name": "stdout"
        }
      ]
    },
    {
      "cell_type": "code",
      "metadata": {
        "colab": {
          "base_uri": "https://localhost:8080/",
          "height": 379
        },
        "id": "jN45YVKPpvgY",
        "outputId": "f0134c1f-105c-4df4-c1f4-ab5888b4375e"
      },
      "source": [
        "#plot hasil PCA dengan scatterplot\n",
        "x=arr2[:,0]\n",
        "y=arr2[:,1]\n",
        "sns.scatterplot(x, y, s=5, color='red')"
      ],
      "execution_count": null,
      "outputs": [
        {
          "output_type": "execute_result",
          "data": {
            "text/plain": [
              "<matplotlib.axes._subplots.AxesSubplot at 0x7f893c40de50>"
            ]
          },
          "metadata": {
            "tags": []
          },
          "execution_count": 50
        },
        {
          "output_type": "display_data",
          "data": {
            "image/png": "[encoded data removed]",
            "text/plain": [
              "<Figure size 600x400 with 1 Axes>"
            ]
          },
          "metadata": {
            "tags": [],
            "needs_background": "light"
          }
        }
      ]
    },
    {
      "cell_type": "markdown",
      "metadata": {
        "id": "VmphJa1qpvgZ"
      },
      "source": [
        "## Pemodelan / Clustering"
      ]
    },
    {
      "cell_type": "markdown",
      "metadata": {
        "id": "0jQHTQJ9pvgZ"
      },
      "source": [
        "**Euclidian Distance**\n",
        "> Membuat fungsi untuk menghitung jarak berdasarkan rumus Euclidian"
      ]
    },
    {
      "cell_type": "code",
      "metadata": {
        "id": "rt0RRtqdpvgZ"
      },
      "source": [
        "def euc(a, b, ax=1):\n",
        "    kurang = a-b\n",
        "    hasil = np.linalg.norm(kurang, axis=ax)\n",
        "    return hasil"
      ],
      "execution_count": null,
      "outputs": []
    },
    {
      "cell_type": "markdown",
      "metadata": {
        "id": "fi04Z0shpvgZ"
      },
      "source": [
        "**Mencari Centroid**\n",
        "> Mengenerate centroid secara random dengan nilai minimun dan maximun yang terdapat pada array yang menampung data salju"
      ]
    },
    {
      "cell_type": "code",
      "metadata": {
        "colab": {
          "base_uri": "https://localhost:8080/"
        },
        "id": "JcwyNbPFpvgZ",
        "outputId": "026e36f6-67b3-49e9-d658-db6a5c939b21"
      },
      "source": [
        "k = 2\n",
        "min = np.min(arr2)\n",
        "max = np.max(arr2)\n",
        "\n",
        "centro1 = np.random.randint(min, max, size=k)\n",
        "centro2 = np.random.randint(min, max, size=k)\n",
        "centroid = np.array(list(zip(centro1, centro2)))\n",
        "print(centroid)"
      ],
      "execution_count": null,
      "outputs": [
        {
          "output_type": "stream",
          "text": [
            "[[7 7]\n",
            " [1 7]]\n"
          ],
          "name": "stdout"
        }
      ]
    },
    {
      "cell_type": "markdown",
      "metadata": {
        "id": "4fitk8dGpvga"
      },
      "source": [
        "**K Means**\n",
        "> Melakukan Clustering dengan K Means "
      ]
    },
    {
      "cell_type": "code",
      "metadata": {
        "colab": {
          "base_uri": "https://localhost:8080/"
        },
        "id": "kWOeDU55pvga",
        "outputId": "af2d18ea-2eb5-41bf-bd4d-7d63890855e1"
      },
      "source": [
        "#membuat arrclus untuk menampung hasil cluster dan arrC untuk menampung nilai centroid sebelumnya lalu array titik untuk menapung pengelompokan\n",
        "arrclus = np.zeros(len(arr2))\n",
        "arrC = np.zeros(centroid.shape)\n",
        "titik = []\n",
        "temp = []\n",
        "#menghitung jarak awal untuk stop parameter\n",
        "stop = euc(centroid, arrC, None)\n",
        "print(stop)\n",
        "\n",
        "while stop != 0:\n",
        "#for i in range(20):\n",
        "    #looping sebanyak data untuk menhitung jarak minimun dari tiap titik yang ada lalu dimasukan ke arrayclus\n",
        "    for i in range(len(arr2)):\n",
        "        jarak = euc(arr2[i], centroid) \n",
        "        cluster = np.argmin(jarak) \n",
        "        arrclus[i] = cluster \n",
        "    #mencopy nilai centroid sebelumnya\n",
        "    arrC = deepcopy(centroid) \n",
        "\n",
        "    #looping untuk mengelompokan titik yang daerahnya berdekatan lalu mengubah nilai centroidnya\n",
        "    for i in range(k): \n",
        "        titik = [arr2[j] for j in range(len(arr2)) if arrclus[j] == i] \n",
        "        centroid[i] = np.mean(titik, axis=0) \n",
        "        temp.append(arrclus)\n",
        "\n",
        "    #menghitung ulang jarak untuk stop parameter\n",
        "    stop = euc(centroid, arrC, None)\n",
        "    \n",
        "    print(stop)\n",
        "\n"
      ],
      "execution_count": null,
      "outputs": [
        {
          "output_type": "stream",
          "text": [
            "12.165525060596439\n",
            "5.196152422706632\n",
            "1.4142135623730951\n",
            "0.0\n"
          ],
          "name": "stdout"
        }
      ]
    },
    {
      "cell_type": "code",
      "metadata": {
        "colab": {
          "base_uri": "https://localhost:8080/",
          "height": 402
        },
        "id": "1v-hM61zpvga",
        "outputId": "97da54ed-de5f-4d31-fc04-46baecb06946"
      },
      "source": [
        "#visualisasi K Means \n",
        "fig, ax = plt.subplots()\n",
        "warna = ['red', 'forestgreen', 'navy', 'gold', 'violet', 'turquoise', 'grey']\n",
        "\n",
        "#visualisasi tiap iterasi K nya\n",
        "for i in range(k):\n",
        "        titik = np.array([arr2[j] for j in range(len(arr2)) if arrclus[j] == i])\n",
        "        x = titik[:, 0]\n",
        "        y = titik[:, 1]\n",
        "        ax.scatter(x, y, s=5, c=warna[i])\n",
        "\n",
        "#visualisasi centroid\n",
        "x_clus = centroid[:, 0]\n",
        "y_clus = centroid[:, 1]        \n",
        "ax.scatter(x_clus, y_clus, marker='H', s=100, color='yellow')\n",
        "plt.title(\"Clustering Data Salju\")\n",
        "plt.show"
      ],
      "execution_count": null,
      "outputs": [
        {
          "output_type": "execute_result",
          "data": {
            "text/plain": [
              "<function matplotlib.pyplot.show>"
            ]
          },
          "metadata": {
            "tags": []
          },
          "execution_count": 54
        },
        {
          "output_type": "display_data",
          "data": {
            "image/png": "[encoded data removed]",
            "text/plain": [
              "<Figure size 600x400 with 1 Axes>"
            ]
          },
          "metadata": {
            "tags": [],
            "needs_background": "light"
          }
        }
      ]
    },
    {
      "cell_type": "code",
      "metadata": {
        "colab": {
          "base_uri": "https://localhost:8080/"
        },
        "id": "SWm2GuFlpvgb",
        "outputId": "2e5bc26b-c830-409c-803d-094a5136b07f"
      },
      "source": [
        "#menunjukan bahwa centroid telah berubah dari nilai asal\n",
        "print(centroid)"
      ],
      "execution_count": null,
      "outputs": [
        {
          "output_type": "stream",
          "text": [
            "[[7 5]\n",
            " [2 3]]\n"
          ],
          "name": "stdout"
        }
      ]
    },
    {
      "cell_type": "markdown",
      "metadata": {
        "id": "sLPH15Bopvgb"
      },
      "source": [
        "**Export Data**\n",
        "> Export data hasil clustering dengan format csv dengan menambah kolom cluster"
      ]
    },
    {
      "cell_type": "code",
      "metadata": {
        "colab": {
          "base_uri": "https://localhost:8080/",
          "height": 419
        },
        "id": "2qwnxY3Upvgb",
        "outputId": "6a7b5f6a-9a52-4076-fc94-2334035778d1"
      },
      "source": [
        "df_br2[\"Cluster\"] = arrclus\n",
        "df_br2"
      ],
      "execution_count": null,
      "outputs": [
        {
          "output_type": "execute_result",
          "data": {
            "text/html": [
              "<div>\n",
              "<style scoped>\n",
              "    .dataframe tbody tr th:only-of-type {\n",
              "        vertical-align: middle;\n",
              "    }\n",
              "\n",
              "    .dataframe tbody tr th {\n",
              "        vertical-align: top;\n",
              "    }\n",
              "\n",
              "    .dataframe thead th {\n",
              "        text-align: right;\n",
              "    }\n",
              "</style>\n",
              "<table border=\"1\" class=\"dataframe\">\n",
              "  <thead>\n",
              "    <tr style=\"text-align: right;\">\n",
              "      <th></th>\n",
              "      <th>SuhuMin</th>\n",
              "      <th>SuhuMax</th>\n",
              "      <th>Hujan</th>\n",
              "      <th>SinarMatahari</th>\n",
              "      <th>Awan3pm</th>\n",
              "      <th>Suhu3pm</th>\n",
              "      <th>BersaljuBesok</th>\n",
              "      <th>Cluster</th>\n",
              "    </tr>\n",
              "  </thead>\n",
              "  <tbody>\n",
              "    <tr>\n",
              "      <th>2</th>\n",
              "      <td>0.677419</td>\n",
              "      <td>0.712435</td>\n",
              "      <td>0.000000</td>\n",
              "      <td>0.373064</td>\n",
              "      <td>0.703228</td>\n",
              "      <td>0.707042</td>\n",
              "      <td>0.0</td>\n",
              "      <td>1.0</td>\n",
              "    </tr>\n",
              "    <tr>\n",
              "      <th>6</th>\n",
              "      <td>0.395161</td>\n",
              "      <td>0.367876</td>\n",
              "      <td>0.142857</td>\n",
              "      <td>0.686567</td>\n",
              "      <td>0.000000</td>\n",
              "      <td>0.388732</td>\n",
              "      <td>0.0</td>\n",
              "      <td>1.0</td>\n",
              "    </tr>\n",
              "    <tr>\n",
              "      <th>14</th>\n",
              "      <td>0.362903</td>\n",
              "      <td>0.323834</td>\n",
              "      <td>0.000000</td>\n",
              "      <td>0.373064</td>\n",
              "      <td>0.703228</td>\n",
              "      <td>0.326761</td>\n",
              "      <td>0.0</td>\n",
              "      <td>1.0</td>\n",
              "    </tr>\n",
              "    <tr>\n",
              "      <th>15</th>\n",
              "      <td>0.438172</td>\n",
              "      <td>0.383420</td>\n",
              "      <td>0.000000</td>\n",
              "      <td>0.283582</td>\n",
              "      <td>0.800000</td>\n",
              "      <td>0.391549</td>\n",
              "      <td>0.0</td>\n",
              "      <td>1.0</td>\n",
              "    </tr>\n",
              "    <tr>\n",
              "      <th>16</th>\n",
              "      <td>0.475806</td>\n",
              "      <td>0.507772</td>\n",
              "      <td>0.142857</td>\n",
              "      <td>0.373064</td>\n",
              "      <td>0.703228</td>\n",
              "      <td>0.538028</td>\n",
              "      <td>0.0</td>\n",
              "      <td>1.0</td>\n",
              "    </tr>\n",
              "    <tr>\n",
              "      <th>...</th>\n",
              "      <td>...</td>\n",
              "      <td>...</td>\n",
              "      <td>...</td>\n",
              "      <td>...</td>\n",
              "      <td>...</td>\n",
              "      <td>...</td>\n",
              "      <td>...</td>\n",
              "      <td>...</td>\n",
              "    </tr>\n",
              "    <tr>\n",
              "      <th>109087</th>\n",
              "      <td>0.325269</td>\n",
              "      <td>0.489637</td>\n",
              "      <td>0.000000</td>\n",
              "      <td>0.373064</td>\n",
              "      <td>0.000000</td>\n",
              "      <td>0.507042</td>\n",
              "      <td>0.0</td>\n",
              "      <td>1.0</td>\n",
              "    </tr>\n",
              "    <tr>\n",
              "      <th>109089</th>\n",
              "      <td>0.690860</td>\n",
              "      <td>0.502591</td>\n",
              "      <td>0.000000</td>\n",
              "      <td>0.373064</td>\n",
              "      <td>0.000000</td>\n",
              "      <td>0.504225</td>\n",
              "      <td>0.0</td>\n",
              "      <td>1.0</td>\n",
              "    </tr>\n",
              "    <tr>\n",
              "      <th>109090</th>\n",
              "      <td>0.728495</td>\n",
              "      <td>0.497409</td>\n",
              "      <td>0.000000</td>\n",
              "      <td>0.567164</td>\n",
              "      <td>1.000000</td>\n",
              "      <td>0.495775</td>\n",
              "      <td>1.0</td>\n",
              "      <td>0.0</td>\n",
              "    </tr>\n",
              "    <tr>\n",
              "      <th>109091</th>\n",
              "      <td>0.610215</td>\n",
              "      <td>0.536269</td>\n",
              "      <td>0.000000</td>\n",
              "      <td>0.373064</td>\n",
              "      <td>0.703228</td>\n",
              "      <td>0.560563</td>\n",
              "      <td>1.0</td>\n",
              "      <td>0.0</td>\n",
              "    </tr>\n",
              "    <tr>\n",
              "      <th>109093</th>\n",
              "      <td>0.478495</td>\n",
              "      <td>0.655440</td>\n",
              "      <td>0.000000</td>\n",
              "      <td>0.910448</td>\n",
              "      <td>0.000000</td>\n",
              "      <td>0.695775</td>\n",
              "      <td>0.0</td>\n",
              "      <td>1.0</td>\n",
              "    </tr>\n",
              "  </tbody>\n",
              "</table>\n",
              "<p>59059 rows × 8 columns</p>\n",
              "</div>"
            ],
            "text/plain": [
              "         SuhuMin   SuhuMax     Hujan  ...   Suhu3pm  BersaljuBesok  Cluster\n",
              "2       0.677419  0.712435  0.000000  ...  0.707042            0.0      1.0\n",
              "6       0.395161  0.367876  0.142857  ...  0.388732            0.0      1.0\n",
              "14      0.362903  0.323834  0.000000  ...  0.326761            0.0      1.0\n",
              "15      0.438172  0.383420  0.000000  ...  0.391549            0.0      1.0\n",
              "16      0.475806  0.507772  0.142857  ...  0.538028            0.0      1.0\n",
              "...          ...       ...       ...  ...       ...            ...      ...\n",
              "109087  0.325269  0.489637  0.000000  ...  0.507042            0.0      1.0\n",
              "109089  0.690860  0.502591  0.000000  ...  0.504225            0.0      1.0\n",
              "109090  0.728495  0.497409  0.000000  ...  0.495775            1.0      0.0\n",
              "109091  0.610215  0.536269  0.000000  ...  0.560563            1.0      0.0\n",
              "109093  0.478495  0.655440  0.000000  ...  0.695775            0.0      1.0\n",
              "\n",
              "[59059 rows x 8 columns]"
            ]
          },
          "metadata": {
            "tags": []
          },
          "execution_count": 56
        }
      ]
    },
    {
      "cell_type": "markdown",
      "metadata": {
        "id": "wexjnj5xpvgc"
      },
      "source": [
        "## Evaluasi"
      ]
    },
    {
      "cell_type": "markdown",
      "metadata": {
        "id": "XN3gBVI4pvgc"
      },
      "source": [
        "**Elbow Method**\n",
        "> Evaluasi menggunakan Elbow Method, ini dilakukan untuk mengkomparasi dari clustering sebelumnya"
      ]
    },
    {
      "cell_type": "code",
      "metadata": {
        "colab": {
          "base_uri": "https://localhost:8080/",
          "height": 419
        },
        "id": "wTVHVzTEpvgc",
        "outputId": "da6fe5f7-1ee3-4086-cd44-1d87db9cd905"
      },
      "source": [
        "#dataset yang digunakan\n",
        "df2"
      ],
      "execution_count": null,
      "outputs": [
        {
          "output_type": "execute_result",
          "data": {
            "text/html": [
              "<div>\n",
              "<style scoped>\n",
              "    .dataframe tbody tr th:only-of-type {\n",
              "        vertical-align: middle;\n",
              "    }\n",
              "\n",
              "    .dataframe tbody tr th {\n",
              "        vertical-align: top;\n",
              "    }\n",
              "\n",
              "    .dataframe thead th {\n",
              "        text-align: right;\n",
              "    }\n",
              "</style>\n",
              "<table border=\"1\" class=\"dataframe\">\n",
              "  <thead>\n",
              "    <tr style=\"text-align: right;\">\n",
              "      <th></th>\n",
              "      <th>x</th>\n",
              "      <th>y</th>\n",
              "    </tr>\n",
              "  </thead>\n",
              "  <tbody>\n",
              "    <tr>\n",
              "      <th>0</th>\n",
              "      <td>-0.092497</td>\n",
              "      <td>-0.001172</td>\n",
              "    </tr>\n",
              "    <tr>\n",
              "      <th>1</th>\n",
              "      <td>-0.360506</td>\n",
              "      <td>0.227455</td>\n",
              "    </tr>\n",
              "    <tr>\n",
              "      <th>2</th>\n",
              "      <td>0.043251</td>\n",
              "      <td>-0.314756</td>\n",
              "    </tr>\n",
              "    <tr>\n",
              "      <th>3</th>\n",
              "      <td>0.086843</td>\n",
              "      <td>-0.340909</td>\n",
              "    </tr>\n",
              "    <tr>\n",
              "      <th>4</th>\n",
              "      <td>-0.008464</td>\n",
              "      <td>-0.172889</td>\n",
              "    </tr>\n",
              "    <tr>\n",
              "      <th>...</th>\n",
              "      <td>...</td>\n",
              "      <td>...</td>\n",
              "    </tr>\n",
              "    <tr>\n",
              "      <th>59054</th>\n",
              "      <td>-0.325390</td>\n",
              "      <td>0.184828</td>\n",
              "    </tr>\n",
              "    <tr>\n",
              "      <th>59055</th>\n",
              "      <td>-0.350706</td>\n",
              "      <td>0.294870</td>\n",
              "    </tr>\n",
              "    <tr>\n",
              "      <th>59056</th>\n",
              "      <td>0.867771</td>\n",
              "      <td>0.334888</td>\n",
              "    </tr>\n",
              "    <tr>\n",
              "      <th>59057</th>\n",
              "      <td>0.775620</td>\n",
              "      <td>0.443886</td>\n",
              "    </tr>\n",
              "    <tr>\n",
              "      <th>59058</th>\n",
              "      <td>-0.528865</td>\n",
              "      <td>0.497240</td>\n",
              "    </tr>\n",
              "  </tbody>\n",
              "</table>\n",
              "<p>59059 rows × 2 columns</p>\n",
              "</div>"
            ],
            "text/plain": [
              "              x         y\n",
              "0     -0.092497 -0.001172\n",
              "1     -0.360506  0.227455\n",
              "2      0.043251 -0.314756\n",
              "3      0.086843 -0.340909\n",
              "4     -0.008464 -0.172889\n",
              "...         ...       ...\n",
              "59054 -0.325390  0.184828\n",
              "59055 -0.350706  0.294870\n",
              "59056  0.867771  0.334888\n",
              "59057  0.775620  0.443886\n",
              "59058 -0.528865  0.497240\n",
              "\n",
              "[59059 rows x 2 columns]"
            ]
          },
          "metadata": {
            "tags": []
          },
          "execution_count": 57
        }
      ]
    },
    {
      "cell_type": "code",
      "metadata": {
        "colab": {
          "base_uri": "https://localhost:8080/",
          "height": 404
        },
        "id": "j-xDeIV7pvgd",
        "outputId": "ae2580f5-1c19-49a2-8036-6eac9edfc347"
      },
      "source": [
        "#membuat array wcss\n",
        "wcss=[]\n",
        "#looping membuat kmeans lalu dimasukan kedalam array\n",
        "for n in range(1,8):\n",
        "    km = KMeans(n_clusters= n, init='k-means++', random_state=50)\n",
        "    km.fit(df2)\n",
        "    wcss.append(km.inertia_)\n",
        "#visualisasi data\n",
        "plt.plot(wcss,color= 'navy')\n",
        "plt.title('Elbow Method')\n",
        "plt.xlabel('Iterasi / Jumlah Cluster')\n",
        "plt.ylabel('WCSS')\n",
        "plt.show()"
      ],
      "execution_count": null,
      "outputs": [
        {
          "output_type": "display_data",
          "data": {
            "image/png": "[encoded data removed]",
            "text/plain": [
              "<Figure size 600x400 with 1 Axes>"
            ]
          },
          "metadata": {
            "tags": [],
            "needs_background": "light"
          }
        }
      ]
    }
  ]
}
